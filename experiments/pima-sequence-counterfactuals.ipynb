{
 "cells": [
  {
   "cell_type": "code",
   "execution_count": 75,
   "metadata": {},
   "outputs": [],
   "source": [
    "import torch\n",
    "import torch.nn as nn\n",
    "import torch.nn.functional as F\n",
    "import numpy as np\n",
    "from matplotlib import pyplot as plt\n",
    "import os\n",
    "import pandas as pd\n",
    "import seaborn as sns\n",
    "from sklearn.model_selection import train_test_split\n",
    "\n",
    "%matplotlib inline"
   ]
  },
  {
   "cell_type": "code",
   "execution_count": 2,
   "metadata": {},
   "outputs": [],
   "source": [
    "os.chdir(\"..\")"
   ]
  },
  {
   "cell_type": "markdown",
   "metadata": {},
   "source": [
    "### Read and display the data"
   ]
  },
  {
   "cell_type": "code",
   "execution_count": 3,
   "metadata": {},
   "outputs": [],
   "source": [
    "def read_data():\n",
    "    filename = 'data/pima-indians-diabetes.csv'\n",
    "    dataset = pd.read_csv(filename, header=None)\n",
    "    dataset.columns = [\n",
    "        \"NumTimesPrg\", \"PlGlcConc\", \"BloodP\",\n",
    "        \"SkinThick\", \"TwoHourSerIns\", \"BMI\",\n",
    "        \"DiPedFunc\", \"Age\", \"HasDiabetes\"]\n",
    "\n",
    "    return dataset"
   ]
  },
  {
   "cell_type": "code",
   "execution_count": 15,
   "metadata": {},
   "outputs": [
    {
     "data": {
      "text/html": [
       "<div>\n",
       "<style scoped>\n",
       "    .dataframe tbody tr th:only-of-type {\n",
       "        vertical-align: middle;\n",
       "    }\n",
       "\n",
       "    .dataframe tbody tr th {\n",
       "        vertical-align: top;\n",
       "    }\n",
       "\n",
       "    .dataframe thead th {\n",
       "        text-align: right;\n",
       "    }\n",
       "</style>\n",
       "<table border=\"1\" class=\"dataframe\">\n",
       "  <thead>\n",
       "    <tr style=\"text-align: right;\">\n",
       "      <th></th>\n",
       "      <th>NumTimesPrg</th>\n",
       "      <th>PlGlcConc</th>\n",
       "      <th>BloodP</th>\n",
       "      <th>SkinThick</th>\n",
       "      <th>TwoHourSerIns</th>\n",
       "      <th>BMI</th>\n",
       "      <th>DiPedFunc</th>\n",
       "      <th>Age</th>\n",
       "      <th>HasDiabetes</th>\n",
       "    </tr>\n",
       "  </thead>\n",
       "  <tbody>\n",
       "    <tr>\n",
       "      <th>0</th>\n",
       "      <td>6</td>\n",
       "      <td>148</td>\n",
       "      <td>72</td>\n",
       "      <td>35</td>\n",
       "      <td>0</td>\n",
       "      <td>33.6</td>\n",
       "      <td>0.627</td>\n",
       "      <td>50</td>\n",
       "      <td>1</td>\n",
       "    </tr>\n",
       "    <tr>\n",
       "      <th>1</th>\n",
       "      <td>1</td>\n",
       "      <td>85</td>\n",
       "      <td>66</td>\n",
       "      <td>29</td>\n",
       "      <td>0</td>\n",
       "      <td>26.6</td>\n",
       "      <td>0.351</td>\n",
       "      <td>31</td>\n",
       "      <td>0</td>\n",
       "    </tr>\n",
       "    <tr>\n",
       "      <th>2</th>\n",
       "      <td>8</td>\n",
       "      <td>183</td>\n",
       "      <td>64</td>\n",
       "      <td>0</td>\n",
       "      <td>0</td>\n",
       "      <td>23.3</td>\n",
       "      <td>0.672</td>\n",
       "      <td>32</td>\n",
       "      <td>1</td>\n",
       "    </tr>\n",
       "    <tr>\n",
       "      <th>3</th>\n",
       "      <td>1</td>\n",
       "      <td>89</td>\n",
       "      <td>66</td>\n",
       "      <td>23</td>\n",
       "      <td>94</td>\n",
       "      <td>28.1</td>\n",
       "      <td>0.167</td>\n",
       "      <td>21</td>\n",
       "      <td>0</td>\n",
       "    </tr>\n",
       "    <tr>\n",
       "      <th>4</th>\n",
       "      <td>0</td>\n",
       "      <td>137</td>\n",
       "      <td>40</td>\n",
       "      <td>35</td>\n",
       "      <td>168</td>\n",
       "      <td>43.1</td>\n",
       "      <td>2.288</td>\n",
       "      <td>33</td>\n",
       "      <td>1</td>\n",
       "    </tr>\n",
       "  </tbody>\n",
       "</table>\n",
       "</div>"
      ],
      "text/plain": [
       "   NumTimesPrg  PlGlcConc  BloodP  SkinThick  TwoHourSerIns   BMI  DiPedFunc  \\\n",
       "0            6        148      72         35              0  33.6      0.627   \n",
       "1            1         85      66         29              0  26.6      0.351   \n",
       "2            8        183      64          0              0  23.3      0.672   \n",
       "3            1         89      66         23             94  28.1      0.167   \n",
       "4            0        137      40         35            168  43.1      2.288   \n",
       "\n",
       "   Age  HasDiabetes  \n",
       "0   50            1  \n",
       "1   31            0  \n",
       "2   32            1  \n",
       "3   21            0  \n",
       "4   33            1  "
      ]
     },
     "execution_count": 15,
     "metadata": {},
     "output_type": "execute_result"
    }
   ],
   "source": [
    "data = read_data()\n",
    "data.head()"
   ]
  },
  {
   "cell_type": "code",
   "execution_count": 26,
   "metadata": {},
   "outputs": [
    {
     "name": "stdout",
     "output_type": "stream",
     "text": [
      "[  6.    148.     72.     35.      0.     33.6     0.627  50.   ]\n"
     ]
    }
   ],
   "source": [
    "print()"
   ]
  },
  {
   "cell_type": "markdown",
   "metadata": {},
   "source": [
    "### Train Simple NN on this dataset and measure accuracy"
   ]
  },
  {
   "cell_type": "code",
   "execution_count": 195,
   "metadata": {},
   "outputs": [],
   "source": [
    "class SimpleNN(nn.Module):\n",
    "    def __init__(self, n_input, n_hidden=[20,20], n_output=1):\n",
    "        super().__init__()\n",
    "        self.hidden1 = nn.Linear(n_input, n_hidden[0])\n",
    "        self.hidden2 = nn.Linear(n_hidden[0], n_hidden[1])\n",
    "        self.output = nn.Linear(n_hidden[1], n_output)\n",
    "        \n",
    "    def forward(self, x):\n",
    "        \"\"\" Accepts input of shape (N_objects, n_input) \"\"\"\n",
    "        x = self.hidden1(x)\n",
    "        x = F.relu(x)\n",
    "        x = self.hidden2(x)\n",
    "        x = F.relu(x)\n",
    "        x = self.output(x)\n",
    "        x = F.sigmoid(x)\n",
    "        return x"
   ]
  },
  {
   "cell_type": "code",
   "execution_count": 196,
   "metadata": {},
   "outputs": [
    {
     "data": {
      "text/plain": [
       "tensor([[0]], dtype=torch.uint8)"
      ]
     },
     "execution_count": 196,
     "metadata": {},
     "output_type": "execute_result"
    }
   ],
   "source": [
    "# Example of applying classifier to very simple object\n",
    "classifier = SimpleNN(8)\n",
    "x = torch.from_numpy(np.array([data.values[1][:8]], dtype=np.float32))\n",
    "output = classifier(x)\n",
    "output > 0.5"
   ]
  },
  {
   "cell_type": "code",
   "execution_count": 226,
   "metadata": {},
   "outputs": [
    {
     "name": "stdout",
     "output_type": "stream",
     "text": [
      "tensor([[ 2.4351, -1.0748,  0.2312,  ...,  0.3912, -0.2916,  1.2579],\n",
      "        [ 0.0360, -1.2362,  0.8921,  ..., -0.3957, -0.4932,  0.0680],\n",
      "        [ 0.6358, -1.3331,  0.5616,  ...,  0.9813, -0.9557, -0.4419],\n",
      "        ...,\n",
      "        [ 0.0360, -0.2354, -0.2645,  ..., -1.3662, -0.1132,  0.3230],\n",
      "        [ 0.6358, -0.4291, -1.4211,  ..., -1.0908,  1.1456,  0.1530],\n",
      "        [ 1.5354,  0.2811,  0.0109,  ...,  0.2469,  0.6137,  1.0029]])\n"
     ]
    }
   ],
   "source": [
    "# Divide dataset into training, validation and test datasets\n",
    "train_data, test_data = train_test_split(data, test_size=0.2)\n",
    "train_data, val_data = train_test_split(train_data, test_size=0.2)\n",
    "train_data.head()\n",
    "\n",
    "X_train, y_train = np.array(train_data.values[:, :8], dtype=np.float32), np.array(train_data.values[:, 8], dtype=np.float32)\n",
    "X_val, y_val = np.array(val_data.values[:, :8], dtype=np.float32), np.array(val_data.values[:, 8], dtype=np.float32)\n",
    "X_test, y_test = np.array(test_data.values[:, :8], dtype=np.float32), np.array(test_data.values[:, 8], dtype=np.float32)\n",
    "\n",
    "mean, std = X_train.mean(axis=0), X_train.std(axis=0)\n",
    "\n",
    "X_train = (X_train - mean) / std\n",
    "X_val = (X_val - mean) / std\n",
    "X_test = (X_test - mean) / std\n",
    "\n",
    "X_train, X_val, X_test = torch.from_numpy(X_train), torch.from_numpy(X_val), torch.from_numpy(X_test)\n",
    "y_train, y_val, y_test = torch.from_numpy(y_train), torch.from_numpy(y_val), torch.from_numpy(y_test)\n",
    "\n",
    "print(X_train)"
   ]
  },
  {
   "cell_type": "code",
   "execution_count": 228,
   "metadata": {},
   "outputs": [
    {
     "name": "stdout",
     "output_type": "stream",
     "text": [
      "0.6617212295532227 0.644692599773407 0.7560975609756098\n",
      "0.6034566760063171 0.571409285068512 0.7642276422764228\n",
      "0.5381165742874146 0.4987359941005707 0.8292682926829268\n",
      "0.496216356754303 0.45290252566337585 0.8373983739837398\n",
      "0.47876080870628357 0.43546053767204285 0.8211382113821138\n",
      "0.46972140669822693 0.4296903908252716 0.8292682926829268\n",
      "0.4639057219028473 0.4282130300998688 0.8211382113821138\n",
      "0.4593995213508606 0.4276420772075653 0.8211382113821138\n",
      "0.45582473278045654 0.42795178294181824 0.8211382113821138\n",
      "0.4529078006744385 0.42983946204185486 0.8211382113821138\n",
      "0.4503971338272095 0.4318242073059082 0.8292682926829268\n",
      "0.44833454489707947 0.4337247610092163 0.8211382113821138\n",
      "0.4466778337955475 0.4352792203426361 0.8211382113821138\n",
      "0.445246160030365 0.43674004077911377 0.8211382113821138\n",
      "0.44381165504455566 0.4379292130470276 0.8211382113821138\n",
      "0.44235900044441223 0.4384967088699341 0.8292682926829268\n",
      "0.44086921215057373 0.4391334354877472 0.8373983739837398\n",
      "0.439521849155426 0.44013869762420654 0.8373983739837398\n",
      "0.4384876489639282 0.44147518277168274 0.8373983739837398\n",
      "0.4374850392341614 0.442656934261322 0.8373983739837398\n"
     ]
    }
   ],
   "source": [
    "# Train SimpleNN\n",
    "model = SimpleNN(8)\n",
    "\n",
    "# optimizer = torch.optim.Adam(model.parameters(), lr=0.001, weight_decay=3e-3)\n",
    "optimizer = torch.optim.SGD(model.parameters(), lr=0.03, weight_decay=1e-2)\n",
    "loss = nn.BCELoss()\n",
    "\n",
    "n_epochs = 2000\n",
    "for epoch in range(n_epochs):\n",
    "    model.zero_grad()\n",
    "    output = model(X_train)\n",
    "    cost = loss(output, y_train)\n",
    "    cost.backward()\n",
    "    optimizer.step()\n",
    "    if epoch % 100 == 0:\n",
    "        val_output = model(X_val)\n",
    "        val_loss = loss(val_output, y_val)\n",
    "        val_acc = np.mean((val_output >= 0.5).view(-1).numpy() == y_val.numpy())\n",
    "        print(cost.item(), val_loss.item(), val_acc)"
   ]
  },
  {
   "cell_type": "code",
   "execution_count": 230,
   "metadata": {},
   "outputs": [
    {
     "name": "stdout",
     "output_type": "stream",
     "text": [
      "Accuracy on test dataset: 0.7727272727272727\n"
     ]
    }
   ],
   "source": [
    "test_output = model(X_test)\n",
    "test_acc = np.mean((test_output >= 0.5).view(-1).numpy() == y_test.numpy())\n",
    "print(f\"Accuracy on test dataset: {test_acc}\")"
   ]
  },
  {
   "cell_type": "markdown",
   "metadata": {},
   "source": [
    "Accuracy on test dataset ~77.2%, which is pretty good, now we can use this model"
   ]
  },
  {
   "cell_type": "markdown",
   "metadata": {},
   "source": [
    "### Generate set of counterfactuals"
   ]
  },
  {
   "cell_type": "code",
   "execution_count": 236,
   "metadata": {},
   "outputs": [],
   "source": [
    "# Choose K elements which have class=target_class according to our model\n",
    "def choose_K_elements(model, data, K=10, target_class=1):\n",
    "    output = model(data).view(-1)\n",
    "    indices = []\n",
    "    cur_ind = 0\n",
    "    while cur_ind < len(output) and len(indices) < K:\n",
    "        out = 1 if output[cur_ind] >= 0.5 else 0\n",
    "        if out == target_class:\n",
    "            indices.append(cur_ind)\n",
    "        cur_ind += 1\n",
    "    \n",
    "    return data[indices, :]"
   ]
  },
  {
   "cell_type": "code",
   "execution_count": 248,
   "metadata": {},
   "outputs": [
    {
     "name": "stdout",
     "output_type": "stream",
     "text": [
      "tensor([[ 1.2356,  1.0881, -0.4297,  0.3570,  4.0008,  0.2207,  0.2535,  1.0879],\n",
      "        [ 1.5354,  1.3787,  0.4515, -1.3104, -0.7245,  0.0633, -1.0516,  1.0029],\n",
      "        [ 0.9357,  0.2488, -0.0993,  1.8319,  0.4688,  0.8108, -0.0901,  0.8329],\n",
      "        [ 0.0360,  0.8299,  0.2312,  0.2928,  2.0725,  0.3387, -0.2685, -0.2719],\n",
      "        [ 2.1352,  0.7007,  1.3327,  0.8059,  0.6692,  0.5616, -0.7013,  1.5129],\n",
      "        [ 0.0360,  2.1857,  2.2139,  0.6776, -0.7245, -0.5006,  0.7062,  0.3230],\n",
      "        [ 2.4351,  0.6039,  0.8370,  0.8059, -0.7245,  0.6666, -0.7344,  0.6630],\n",
      "        [ 0.0360,  0.7330, -0.6500,  0.4852,  0.6120, -0.3695, -0.5923,  0.3230],\n",
      "        [ 0.0360,  1.6047,  0.1210, -1.3104, -0.7245,  1.4797,  0.0421, -0.6119],\n",
      "        [ 0.6358,  2.3794,  0.0109, -1.3104, -0.7245, -0.1859, -0.4568, -0.1869]])\n",
      "tensor([[0.7332],\n",
      "        [0.7052],\n",
      "        [0.6755],\n",
      "        [0.5445],\n",
      "        [0.6479],\n",
      "        [0.7842],\n",
      "        [0.6691],\n",
      "        [0.5666],\n",
      "        [0.8300],\n",
      "        [0.7882]], grad_fn=<SigmoidBackward>)\n"
     ]
    }
   ],
   "source": [
    "# Choose 10 objects and display them\n",
    "X_has_diabetes = choose_K_elements(model, X_train, K=10)\n",
    "print(X_has_diabetes)\n",
    "print(model(X_has_diabetes))"
   ]
  },
  {
   "cell_type": "markdown",
   "metadata": {},
   "source": [
    "Cost function:\n",
    "$$\n",
    "\\frac{1}{n}[\\sum_{i=1}^n f_{target}(x_i + t_i) + \\lambda \\sum_{i=1}^n norm(t_i) + \\mu \\sum_{i=1}^n \\sum_{j=1}^n d(t_i, t_j)],\n",
    "$$\n",
    "\n",
    "where\n",
    "* $f_{target}$ - output of model\n",
    "* $x_i$ - input datapoint\n",
    "* $t_i$ - transformation applied to $x_i$\n",
    "* $norm$ - function to constraint $t_i$ (e.g. L1 norm)\n",
    "* $d$ - distance between two tranformations (e.g. L2 distance)"
   ]
  },
  {
   "cell_type": "code",
   "execution_count": 285,
   "metadata": {
    "scrolled": false
   },
   "outputs": [
    {
     "name": "stdout",
     "output_type": "stream",
     "text": [
      "Terms: 0.6944345235824585 0.0 0.0\n",
      "tensor(0.6944, grad_fn=<AddBackward0>)\n",
      "Terms: 0.6944345235824585 0.0 0.0\n",
      "tensor(0.6944, grad_fn=<AddBackward0>)\n"
     ]
    }
   ],
   "source": [
    "# Define and evaluate cost function on the dataset\n",
    "def cost_func(model, X_data, ts, norm_func, dist_func, lambda_coef=1.0, mu_coef=1.0, verbose=True):\n",
    "    term1 = torch.mean(model(X_data + ts))\n",
    "    term2 = norm_func(ts)\n",
    "    term3 = 0.0\n",
    "    for i in range(ts.shape[0]):\n",
    "        for j in range(i, ts.shape[0]):\n",
    "            term3 += dist_func(ts[i], ts[j])\n",
    "            \n",
    "    if verbose:\n",
    "        print(\"Terms:\", term1.item(), lambda_coef * term2.item(), mu_coef * term3.item())\n",
    "        \n",
    "    return term1 + lambda_coef * term2 + mu_coef * term3\n",
    "\n",
    "ts = torch.zeros_like(X_has_diabetes, requires_grad=True)\n",
    "print(cost_func(model, X_has_diabetes, ts, norm_func=lambda x: torch.norm(x, p=1), dist_func=lambda x, y: torch.dist(x, y, p=2)))\n",
    "\n",
    "cost_short = lambda t, l=1.0, mu=1.0, verb=True: cost_func(model, \n",
    "                                                           X_has_diabetes, \n",
    "                                                           t, \n",
    "                                                           norm_func=lambda x: torch.norm(x, p=1), \n",
    "                                                           dist_func=lambda x, y: torch.dist(x, y, p=2), \n",
    "                                                           lambda_coef=l, \n",
    "                                                           mu_coef=mu, \n",
    "                                                           verbose=verb)\n",
    "print(cost_short(ts))"
   ]
  },
  {
   "cell_type": "markdown",
   "metadata": {},
   "source": [
    "#### Experiment 1. LR=0.1, lambda_coef=0, mu_coef=0"
   ]
  },
  {
   "cell_type": "code",
   "execution_count": 310,
   "metadata": {},
   "outputs": [
    {
     "name": "stdout",
     "output_type": "stream",
     "text": [
      "Terms: 0.6941248774528503 0.0 0.0\n",
      "0.6941248774528503\n",
      "Terms: 0.5813257694244385 0.0 0.0\n",
      "0.5813257694244385\n",
      "Terms: 0.4490535855293274 0.0 0.0\n",
      "0.4490535855293274\n",
      "Terms: 0.35352247953414917 0.0 0.0\n",
      "0.35352247953414917\n"
     ]
    }
   ],
   "source": [
    "ts = torch.zeros_like(X_has_diabetes, requires_grad=True)\n",
    "\n",
    "lr = 0.1\n",
    "lambda_coef = 0.0\n",
    "mu_coef = 0\n",
    "optimizer = torch.optim.SGD([ts], lr=lr)\n",
    "\n",
    "n_iters = 1000\n",
    "for i in range(n_iters):\n",
    "    optimizer.zero_grad()\n",
    "    cost = cost_short(ts, l=lambda_coef, mu=mu_coef, verb=False)\n",
    "    cost.backward()\n",
    "    optimizer.step()\n",
    "    if i % 300 == 0:\n",
    "        print(cost_short(ts, l=lambda_coef, mu=mu_coef, verb=True).item())"
   ]
  },
  {
   "cell_type": "code",
   "execution_count": 311,
   "metadata": {
    "scrolled": true
   },
   "outputs": [
    {
     "data": {
      "text/plain": [
       "<matplotlib.axes._subplots.AxesSubplot at 0x7fc29a314dd8>"
      ]
     },
     "execution_count": 311,
     "metadata": {},
     "output_type": "execute_result"
    },
    {
     "data": {
      "image/png": "[encoded data removed]",
      "text/plain": [
       "<Figure size 432x288 with 2 Axes>"
      ]
     },
     "metadata": {
      "needs_background": "light"
     },
     "output_type": "display_data"
    }
   ],
   "source": [
    "sns.heatmap(ts.detach().numpy())"
   ]
  },
  {
   "cell_type": "markdown",
   "metadata": {},
   "source": [
    "#### Experiment 2. LR=0.1, lambda_coef=0.005, mu_coef=0"
   ]
  },
  {
   "cell_type": "code",
   "execution_count": 303,
   "metadata": {
    "scrolled": true
   },
   "outputs": [
    {
     "name": "stdout",
     "output_type": "stream",
     "text": [
      "Terms: 0.6941248774528503 0.00017442669719457625 0.0\n",
      "0.6942992806434631\n",
      "Terms: 0.6493395566940308 0.015986053943634032 0.0\n",
      "0.6653255820274353\n",
      "Terms: 0.5717087984085083 0.038029747009277345 0.0\n",
      "0.6097385287284851\n",
      "Terms: 0.5054576396942139 0.05860831260681153 0.0\n",
      "0.5640659332275391\n",
      "Terms: 0.4519956707954407 0.07454482555389405 0.0\n",
      "0.5265405178070068\n",
      "Terms: 0.40791550278663635 0.08799716949462891 0.0\n",
      "0.49591267108917236\n",
      "Terms: 0.3621148467063904 0.10155619621276855 0.0\n",
      "0.4636710286140442\n",
      "Terms: 0.3127034604549408 0.11481551170349122 0.0\n",
      "0.42751896381378174\n",
      "Terms: 0.2708316743373871 0.1255318546295166 0.0\n",
      "0.3963635265827179\n",
      "Terms: 0.24608495831489563 0.1334278964996338 0.0\n",
      "0.37951284646987915\n",
      "Terms: 0.23513348400592804 0.13762975692749024 0.0\n",
      "0.3727632164955139\n",
      "Terms: 0.2230086624622345 0.14162744522094728 0.0\n",
      "0.3646361231803894\n",
      "Terms: 0.21651379764080048 0.14405132293701173 0.0\n",
      "0.3605651259422302\n",
      "Terms: 0.21039709448814392 0.14591747283935547 0.0\n",
      "0.3563145697116852\n",
      "Terms: 0.20391270518302917 0.14752084732055665 0.0\n",
      "0.35143354535102844\n",
      "Terms: 0.2003345787525177 0.1487920379638672 0.0\n",
      "0.3491266071796417\n",
      "Terms: 0.19806499779224396 0.14958361625671387 0.0\n",
      "0.34764862060546875\n"
     ]
    }
   ],
   "source": [
    "ts = torch.zeros_like(X_has_diabetes, requires_grad=True)\n",
    "\n",
    "lr = 0.1\n",
    "lambda_coef = 0.005\n",
    "mu_coef = 0\n",
    "optimizer = torch.optim.SGD([ts], lr=lr)\n",
    "\n",
    "n_iters = 5000\n",
    "for i in range(n_iters):\n",
    "    optimizer.zero_grad()\n",
    "    cost = cost_short(ts, l=lambda_coef, mu=mu_coef, verb=False)\n",
    "    cost.backward()\n",
    "    optimizer.step()\n",
    "    if i % 300 == 0:\n",
    "        print(cost_short(ts, l=lambda_coef, mu=mu_coef, verb=True).item())"
   ]
  },
  {
   "cell_type": "code",
   "execution_count": 307,
   "metadata": {
    "scrolled": true
   },
   "outputs": [
    {
     "data": {
      "text/plain": [
       "<matplotlib.axes._subplots.AxesSubplot at 0x7fc29c071a58>"
      ]
     },
     "execution_count": 307,
     "metadata": {},
     "output_type": "execute_result"
    },
    {
     "data": {
      "image/png": "[encoded data removed]",
      "text/plain": [
       "<Figure size 432x288 with 2 Axes>"
      ]
     },
     "metadata": {
      "needs_background": "light"
     },
     "output_type": "display_data"
    }
   ],
   "source": [
    "sns.heatmap(ts.detach().numpy())"
   ]
  }
 ],
 "metadata": {
  "kernelspec": {
   "display_name": "Python 3",
   "language": "python",
   "name": "python3"
  },
  "language_info": {
   "codemirror_mode": {
    "name": "ipython",
    "version": 3
   },
   "file_extension": ".py",
   "mimetype": "text/x-python",
   "name": "python",
   "nbconvert_exporter": "python",
   "pygments_lexer": "ipython3",
   "version": "3.6.6"
  }
 },
 "nbformat": 4,
 "nbformat_minor": 2
}
