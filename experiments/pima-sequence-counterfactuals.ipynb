{
 "cells": [
  {
   "cell_type": "code",
   "execution_count": 1,
   "metadata": {},
   "outputs": [],
   "source": [
    "import torch\n",
    "import torch.nn as nn\n",
    "import torch.nn.functional as F\n",
    "import numpy as np\n",
    "from matplotlib import pyplot as plt\n",
    "import os\n",
    "import pandas as pd\n",
    "import seaborn as sns\n",
    "from sklearn.model_selection import train_test_split\n",
    "\n",
    "%matplotlib inline"
   ]
  },
  {
   "cell_type": "code",
   "execution_count": 2,
   "metadata": {},
   "outputs": [],
   "source": [
    "os.chdir(\"..\")"
   ]
  },
  {
   "cell_type": "code",
   "execution_count": 3,
   "metadata": {},
   "outputs": [],
   "source": [
    "colormap = sns.color_palette(\"PuOr\", 10)"
   ]
  },
  {
   "cell_type": "markdown",
   "metadata": {},
   "source": [
    "### Read and display the data"
   ]
  },
  {
   "cell_type": "code",
   "execution_count": 4,
   "metadata": {},
   "outputs": [],
   "source": [
    "def read_data():\n",
    "    filename = 'data/pima-indians-diabetes.csv'\n",
    "    dataset = pd.read_csv(filename, header=None)\n",
    "    dataset.columns = [\n",
    "        \"NumTimesPrg\", \"PlGlcConc\", \"BloodP\",\n",
    "        \"SkinThick\", \"TwoHourSerIns\", \"BMI\",\n",
    "        \"DiPedFunc\", \"Age\", \"HasDiabetes\"]\n",
    "\n",
    "    return dataset"
   ]
  },
  {
   "cell_type": "code",
   "execution_count": 5,
   "metadata": {},
   "outputs": [
    {
     "data": {
      "text/html": [
       "<div>\n",
       "<style scoped>\n",
       "    .dataframe tbody tr th:only-of-type {\n",
       "        vertical-align: middle;\n",
       "    }\n",
       "\n",
       "    .dataframe tbody tr th {\n",
       "        vertical-align: top;\n",
       "    }\n",
       "\n",
       "    .dataframe thead th {\n",
       "        text-align: right;\n",
       "    }\n",
       "</style>\n",
       "<table border=\"1\" class=\"dataframe\">\n",
       "  <thead>\n",
       "    <tr style=\"text-align: right;\">\n",
       "      <th></th>\n",
       "      <th>NumTimesPrg</th>\n",
       "      <th>PlGlcConc</th>\n",
       "      <th>BloodP</th>\n",
       "      <th>SkinThick</th>\n",
       "      <th>TwoHourSerIns</th>\n",
       "      <th>BMI</th>\n",
       "      <th>DiPedFunc</th>\n",
       "      <th>Age</th>\n",
       "      <th>HasDiabetes</th>\n",
       "    </tr>\n",
       "  </thead>\n",
       "  <tbody>\n",
       "    <tr>\n",
       "      <th>0</th>\n",
       "      <td>6</td>\n",
       "      <td>148</td>\n",
       "      <td>72</td>\n",
       "      <td>35</td>\n",
       "      <td>0</td>\n",
       "      <td>33.6</td>\n",
       "      <td>0.627</td>\n",
       "      <td>50</td>\n",
       "      <td>1</td>\n",
       "    </tr>\n",
       "    <tr>\n",
       "      <th>1</th>\n",
       "      <td>1</td>\n",
       "      <td>85</td>\n",
       "      <td>66</td>\n",
       "      <td>29</td>\n",
       "      <td>0</td>\n",
       "      <td>26.6</td>\n",
       "      <td>0.351</td>\n",
       "      <td>31</td>\n",
       "      <td>0</td>\n",
       "    </tr>\n",
       "    <tr>\n",
       "      <th>2</th>\n",
       "      <td>8</td>\n",
       "      <td>183</td>\n",
       "      <td>64</td>\n",
       "      <td>0</td>\n",
       "      <td>0</td>\n",
       "      <td>23.3</td>\n",
       "      <td>0.672</td>\n",
       "      <td>32</td>\n",
       "      <td>1</td>\n",
       "    </tr>\n",
       "    <tr>\n",
       "      <th>3</th>\n",
       "      <td>1</td>\n",
       "      <td>89</td>\n",
       "      <td>66</td>\n",
       "      <td>23</td>\n",
       "      <td>94</td>\n",
       "      <td>28.1</td>\n",
       "      <td>0.167</td>\n",
       "      <td>21</td>\n",
       "      <td>0</td>\n",
       "    </tr>\n",
       "    <tr>\n",
       "      <th>4</th>\n",
       "      <td>0</td>\n",
       "      <td>137</td>\n",
       "      <td>40</td>\n",
       "      <td>35</td>\n",
       "      <td>168</td>\n",
       "      <td>43.1</td>\n",
       "      <td>2.288</td>\n",
       "      <td>33</td>\n",
       "      <td>1</td>\n",
       "    </tr>\n",
       "  </tbody>\n",
       "</table>\n",
       "</div>"
      ],
      "text/plain": [
       "   NumTimesPrg  PlGlcConc  BloodP  SkinThick  TwoHourSerIns   BMI  DiPedFunc  \\\n",
       "0            6        148      72         35              0  33.6      0.627   \n",
       "1            1         85      66         29              0  26.6      0.351   \n",
       "2            8        183      64          0              0  23.3      0.672   \n",
       "3            1         89      66         23             94  28.1      0.167   \n",
       "4            0        137      40         35            168  43.1      2.288   \n",
       "\n",
       "   Age  HasDiabetes  \n",
       "0   50            1  \n",
       "1   31            0  \n",
       "2   32            1  \n",
       "3   21            0  \n",
       "4   33            1  "
      ]
     },
     "execution_count": 5,
     "metadata": {},
     "output_type": "execute_result"
    }
   ],
   "source": [
    "data = read_data()\n",
    "data.head()"
   ]
  },
  {
   "cell_type": "code",
   "execution_count": 44,
   "metadata": {},
   "outputs": [
    {
     "name": "stdout",
     "output_type": "stream",
     "text": [
      "(768, 9)\n"
     ]
    }
   ],
   "source": [
    "print(data.shape)"
   ]
  },
  {
   "cell_type": "markdown",
   "metadata": {},
   "source": [
    "### Train Simple NN on this dataset and measure accuracy"
   ]
  },
  {
   "cell_type": "code",
   "execution_count": 6,
   "metadata": {},
   "outputs": [],
   "source": [
    "class SimpleNN(nn.Module):\n",
    "    def __init__(self, n_input, n_hidden=[20,20], n_output=1):\n",
    "        super().__init__()\n",
    "        self.hidden1 = nn.Linear(n_input, n_hidden[0])\n",
    "        self.hidden2 = nn.Linear(n_hidden[0], n_hidden[1])\n",
    "        self.output = nn.Linear(n_hidden[1], n_output)\n",
    "        \n",
    "    def forward(self, x):\n",
    "        \"\"\" Accepts input of shape (N_objects, n_input) \"\"\"\n",
    "        x = self.hidden1(x)\n",
    "        x = F.relu(x)\n",
    "        x = self.hidden2(x)\n",
    "        x = F.relu(x)\n",
    "        x = self.output(x)\n",
    "        x = F.sigmoid(x)\n",
    "        return x"
   ]
  },
  {
   "cell_type": "code",
   "execution_count": 7,
   "metadata": {},
   "outputs": [
    {
     "name": "stderr",
     "output_type": "stream",
     "text": [
      "/usr/local/lib/python3.6/dist-packages/torch/nn/functional.py:1332: UserWarning: nn.functional.sigmoid is deprecated. Use torch.sigmoid instead.\n",
      "  warnings.warn(\"nn.functional.sigmoid is deprecated. Use torch.sigmoid instead.\")\n"
     ]
    },
    {
     "data": {
      "text/plain": [
       "tensor([[0]], dtype=torch.uint8)"
      ]
     },
     "execution_count": 7,
     "metadata": {},
     "output_type": "execute_result"
    }
   ],
   "source": [
    "# Example of applying classifier to very simple object\n",
    "classifier = SimpleNN(8)\n",
    "x = torch.from_numpy(np.array([data.values[1][:8]], dtype=np.float32))\n",
    "output = classifier(x)\n",
    "output > 0.5"
   ]
  },
  {
   "cell_type": "code",
   "execution_count": 8,
   "metadata": {},
   "outputs": [
    {
     "name": "stdout",
     "output_type": "stream",
     "text": [
      "tensor([[ 0.9271,  0.6727, -0.4354,  ..., -0.3613,  0.6632,  2.5540],\n",
      "        [-0.5208, -1.0751,  0.2634,  ..., -0.3369, -0.7605, -0.9289],\n",
      "        [ 0.6376, -0.2012, -0.4354,  ...,  0.2372, -0.7108,  0.6786],\n",
      "        ...,\n",
      "        [ 1.5063, -0.6219,  0.3632,  ...,  0.1395,  0.5948,  1.2144],\n",
      "        [-0.5208, -1.0103, -0.0361,  ...,  0.7869,  0.0912, -0.4824],\n",
      "        [-1.1000,  1.8055, -0.4354,  ...,  0.3471,  1.8601, -1.0182]])\n"
     ]
    }
   ],
   "source": [
    "# Divide dataset into training, validation and test datasets\n",
    "train_data, test_data = train_test_split(data, test_size=0.2)\n",
    "train_data, val_data = train_test_split(train_data, test_size=0.2)\n",
    "train_data.head()\n",
    "\n",
    "X_train, y_train = np.array(train_data.values[:, :8], dtype=np.float32), np.array(train_data.values[:, 8], dtype=np.float32)\n",
    "X_val, y_val = np.array(val_data.values[:, :8], dtype=np.float32), np.array(val_data.values[:, 8], dtype=np.float32)\n",
    "X_test, y_test = np.array(test_data.values[:, :8], dtype=np.float32), np.array(test_data.values[:, 8], dtype=np.float32)\n",
    "\n",
    "mean, std = X_train.mean(axis=0), X_train.std(axis=0)\n",
    "\n",
    "X_train = (X_train - mean) / std\n",
    "X_val = (X_val - mean) / std\n",
    "X_test = (X_test - mean) / std\n",
    "\n",
    "X_train, X_val, X_test = torch.from_numpy(X_train), torch.from_numpy(X_val), torch.from_numpy(X_test)\n",
    "y_train, y_val, y_test = torch.from_numpy(y_train), torch.from_numpy(y_val), torch.from_numpy(y_test)\n",
    "\n",
    "print(X_train)"
   ]
  },
  {
   "cell_type": "code",
   "execution_count": 9,
   "metadata": {},
   "outputs": [
    {
     "name": "stderr",
     "output_type": "stream",
     "text": [
      "/usr/local/lib/python3.6/dist-packages/torch/nn/functional.py:2016: UserWarning: Using a target size (torch.Size([491])) that is different to the input size (torch.Size([491, 1])) is deprecated. Please ensure they have the same size.\n",
      "  \"Please ensure they have the same size.\".format(target.size(), input.size()))\n",
      "/usr/local/lib/python3.6/dist-packages/torch/nn/functional.py:2016: UserWarning: Using a target size (torch.Size([123])) that is different to the input size (torch.Size([123, 1])) is deprecated. Please ensure they have the same size.\n",
      "  \"Please ensure they have the same size.\".format(target.size(), input.size()))\n"
     ]
    },
    {
     "name": "stdout",
     "output_type": "stream",
     "text": [
      "Cost: 0.709540843963623, val_loss: 0.7121971845626831, val_acc: 0.25203252032520324\n",
      "Cost: 0.619239091873169, val_loss: 0.6134998798370361, val_acc: 0.6504065040650406\n",
      "Cost: 0.5669479966163635, val_loss: 0.5446128249168396, val_acc: 0.6666666666666666\n",
      "Cost: 0.5220794081687927, val_loss: 0.48147138953208923, val_acc: 0.8292682926829268\n",
      "Cost: 0.4955713152885437, val_loss: 0.4446181654930115, val_acc: 0.8455284552845529\n",
      "Cost: 0.4823743999004364, val_loss: 0.4274035096168518, val_acc: 0.8373983739837398\n",
      "Cost: 0.4749546945095062, val_loss: 0.4192945659160614, val_acc: 0.8373983739837398\n",
      "Cost: 0.4701898992061615, val_loss: 0.41489383578300476, val_acc: 0.8373983739837398\n",
      "Cost: 0.4666481614112854, val_loss: 0.412029504776001, val_acc: 0.8373983739837398\n",
      "Cost: 0.46361690759658813, val_loss: 0.4104856252670288, val_acc: 0.8292682926829268\n",
      "Cost: 0.4610840082168579, val_loss: 0.40951088070869446, val_acc: 0.8292682926829268\n",
      "Cost: 0.4588823914527893, val_loss: 0.40840619802474976, val_acc: 0.8292682926829268\n",
      "Cost: 0.45693302154541016, val_loss: 0.40746521949768066, val_acc: 0.8211382113821138\n",
      "Cost: 0.4551295042037964, val_loss: 0.40651488304138184, val_acc: 0.8211382113821138\n",
      "Cost: 0.4536864459514618, val_loss: 0.40608930587768555, val_acc: 0.8130081300813008\n",
      "Cost: 0.45237022638320923, val_loss: 0.4058234691619873, val_acc: 0.8130081300813008\n",
      "Cost: 0.4511711895465851, val_loss: 0.40575000643730164, val_acc: 0.8130081300813008\n",
      "Cost: 0.4500909149646759, val_loss: 0.4059673845767975, val_acc: 0.8130081300813008\n",
      "Cost: 0.44909101724624634, val_loss: 0.40638676285743713, val_acc: 0.8130081300813008\n",
      "Cost: 0.4481303095817566, val_loss: 0.40719661116600037, val_acc: 0.8130081300813008\n",
      "Cost: 0.4472062885761261, val_loss: 0.4080609679222107, val_acc: 0.8130081300813008\n",
      "Cost: 0.44640016555786133, val_loss: 0.4088960289955139, val_acc: 0.8130081300813008\n",
      "Cost: 0.44560644030570984, val_loss: 0.40976911783218384, val_acc: 0.8130081300813008\n",
      "Cost: 0.4448609948158264, val_loss: 0.41043007373809814, val_acc: 0.8130081300813008\n",
      "Cost: 0.4441840648651123, val_loss: 0.41092368960380554, val_acc: 0.8130081300813008\n",
      "Cost: 0.44361117482185364, val_loss: 0.41120558977127075, val_acc: 0.8130081300813008\n",
      "Cost: 0.44311079382896423, val_loss: 0.41134902834892273, val_acc: 0.8130081300813008\n",
      "Cost: 0.44260895252227783, val_loss: 0.4117031395435333, val_acc: 0.8048780487804879\n",
      "Cost: 0.44209572672843933, val_loss: 0.4121209383010864, val_acc: 0.8048780487804879\n",
      "Cost: 0.44160619378089905, val_loss: 0.4123802185058594, val_acc: 0.8048780487804879\n",
      "Cost: 0.44115132093429565, val_loss: 0.41255372762680054, val_acc: 0.8048780487804879\n",
      "Cost: 0.4407009184360504, val_loss: 0.4127538502216339, val_acc: 0.7967479674796748\n",
      "Cost: 0.44028156995773315, val_loss: 0.4128437936306, val_acc: 0.7967479674796748\n",
      "Cost: 0.4398818910121918, val_loss: 0.41301795840263367, val_acc: 0.7967479674796748\n",
      "Cost: 0.4394902288913727, val_loss: 0.41317498683929443, val_acc: 0.7967479674796748\n",
      "Cost: 0.4391199052333832, val_loss: 0.4133189618587494, val_acc: 0.7967479674796748\n",
      "Cost: 0.4387354850769043, val_loss: 0.41343024373054504, val_acc: 0.7967479674796748\n",
      "Cost: 0.43830639123916626, val_loss: 0.41365715861320496, val_acc: 0.7967479674796748\n",
      "Cost: 0.43784603476524353, val_loss: 0.41380828619003296, val_acc: 0.7967479674796748\n",
      "Cost: 0.437404990196228, val_loss: 0.4139522314071655, val_acc: 0.7886178861788617\n",
      "Cost: 0.4369792938232422, val_loss: 0.41422292590141296, val_acc: 0.7886178861788617\n",
      "Cost: 0.43654149770736694, val_loss: 0.4144592881202698, val_acc: 0.7886178861788617\n",
      "Cost: 0.4360678493976593, val_loss: 0.41456037759780884, val_acc: 0.7886178861788617\n",
      "Cost: 0.43562036752700806, val_loss: 0.414757639169693, val_acc: 0.7886178861788617\n",
      "Cost: 0.4352116584777832, val_loss: 0.4149934947490692, val_acc: 0.7886178861788617\n",
      "Cost: 0.43480145931243896, val_loss: 0.4150761067867279, val_acc: 0.7886178861788617\n",
      "Cost: 0.43433907628059387, val_loss: 0.41550153493881226, val_acc: 0.7886178861788617\n",
      "Cost: 0.4338555634021759, val_loss: 0.41579243540763855, val_acc: 0.7886178861788617\n",
      "Cost: 0.4333699345588684, val_loss: 0.4160916209220886, val_acc: 0.7886178861788617\n",
      "Cost: 0.43284282088279724, val_loss: 0.416222482919693, val_acc: 0.7886178861788617\n",
      "Cost: 0.43230369687080383, val_loss: 0.41624248027801514, val_acc: 0.7886178861788617\n",
      "Cost: 0.431779146194458, val_loss: 0.41638150811195374, val_acc: 0.7886178861788617\n",
      "Cost: 0.4312891662120819, val_loss: 0.4162651598453522, val_acc: 0.7723577235772358\n",
      "Cost: 0.4308205842971802, val_loss: 0.4162188768386841, val_acc: 0.7723577235772358\n",
      "Cost: 0.43032774329185486, val_loss: 0.41641318798065186, val_acc: 0.7723577235772358\n",
      "Cost: 0.4298010468482971, val_loss: 0.41670066118240356, val_acc: 0.7723577235772358\n",
      "Cost: 0.4292571246623993, val_loss: 0.41692909598350525, val_acc: 0.7723577235772358\n",
      "Cost: 0.42872515320777893, val_loss: 0.4168943762779236, val_acc: 0.7723577235772358\n",
      "Cost: 0.42820385098457336, val_loss: 0.4169488251209259, val_acc: 0.7723577235772358\n",
      "Cost: 0.42768463492393494, val_loss: 0.417115181684494, val_acc: 0.7723577235772358\n"
     ]
    }
   ],
   "source": [
    "# Train SimpleNN\n",
    "model = SimpleNN(8)\n",
    "\n",
    "# optimizer = torch.optim.Adam(model.parameters(), lr=0.001, weight_decay=3e-3)\n",
    "optimizer = torch.optim.SGD(model.parameters(), lr=0.03, weight_decay=1e-2)\n",
    "loss = nn.BCELoss()\n",
    "\n",
    "n_epochs = 6000\n",
    "for epoch in range(n_epochs):\n",
    "    model.zero_grad()\n",
    "    output = model(X_train)\n",
    "    cost = loss(output, y_train)\n",
    "    cost.backward()\n",
    "    optimizer.step()\n",
    "    if epoch % 100 == 0:\n",
    "        val_output = model(X_val)\n",
    "        val_loss = loss(val_output, y_val)\n",
    "        val_acc = np.mean((val_output >= 0.5).view(-1).numpy() == y_val.numpy())\n",
    "        print(f\"Cost: {cost.item()}, val_loss: {val_loss.item()}, val_acc: {val_acc}\")"
   ]
  },
  {
   "cell_type": "code",
   "execution_count": 10,
   "metadata": {},
   "outputs": [
    {
     "name": "stdout",
     "output_type": "stream",
     "text": [
      "Accuracy on test dataset: 0.7792207792207793\n"
     ]
    }
   ],
   "source": [
    "test_output = model(X_test)\n",
    "test_acc = np.mean((test_output >= 0.5).view(-1).numpy() == y_test.numpy())\n",
    "print(f\"Accuracy on test dataset: {test_acc}\")"
   ]
  },
  {
   "cell_type": "markdown",
   "metadata": {},
   "source": [
    "Accuracy on test dataset ~80.5%, which is pretty good, now we can use this model"
   ]
  },
  {
   "cell_type": "markdown",
   "metadata": {},
   "source": [
    "### Generate set of counterfactuals"
   ]
  },
  {
   "cell_type": "code",
   "execution_count": 11,
   "metadata": {},
   "outputs": [],
   "source": [
    "from mlexplain.sce.util import choose_k_top_elements_flat"
   ]
  },
  {
   "cell_type": "code",
   "execution_count": 12,
   "metadata": {},
   "outputs": [
    {
     "name": "stdout",
     "output_type": "stream",
     "text": [
      "tensor([[-0.5208,  2.4528,  0.0637,  5.0208, -0.7013,  0.3593,  0.3151,  2.6433],\n",
      "        [-0.8104,  1.9026, -3.4301, -1.2813, -0.7013,  1.4098, -0.5958,  0.7679],\n",
      "        [-1.1000,  1.9026, -0.1359,  1.2013, -0.7013,  1.2510,  4.4123, -0.6610],\n",
      "        [ 0.0584,  1.9997, -3.4301, -1.2813, -0.7013, -0.4102, -0.8134,  0.3214],\n",
      "        [ 2.0855,  0.4461, -3.4301, -1.2813, -0.7013,  2.5091,  0.3244,  0.6786],\n",
      "        [ 0.9271,  2.3557, -0.0361,  0.5011, -0.7013,  0.5059,  0.8435,  0.7679],\n",
      "        [-1.1000,  1.3200,  0.3632,  2.2835,  0.1737,  2.6191,  0.8871, -0.6610],\n",
      "        [-1.1000,  0.7698, -3.4301, -1.2813, -0.7013,  1.5197,  0.4860, -0.1251],\n",
      "        [ 0.6376,  2.3881,  0.0637, -1.2813, -0.7013, -0.1048, -0.4528, -0.1251],\n",
      "        [ 2.9542,  1.7408, -0.3356,  0.6284, -0.7013,  0.2250, -0.8134,  0.5000]])\n",
      "tensor([[0.9115],\n",
      "        [0.9086],\n",
      "        [0.8932],\n",
      "        [0.8894],\n",
      "        [0.8842],\n",
      "        [0.8788],\n",
      "        [0.8729],\n",
      "        [0.8663],\n",
      "        [0.8659],\n",
      "        [0.8647]], grad_fn=<SigmoidBackward>)\n"
     ]
    }
   ],
   "source": [
    "# Choose 10 objects and display them\n",
    "X_has_diabetes = choose_k_top_elements_flat(model, X_train, K=10)\n",
    "print(X_has_diabetes)\n",
    "print(model(X_has_diabetes))"
   ]
  },
  {
   "cell_type": "code",
   "execution_count": 13,
   "metadata": {},
   "outputs": [],
   "source": [
    "from mlexplain.sce.tabular_sce import TabularSCE"
   ]
  },
  {
   "cell_type": "markdown",
   "metadata": {},
   "source": [
    "#### Experiment 1. LR=0.1, lambda_coef=0, mu_coef=0"
   ]
  },
  {
   "cell_type": "code",
   "execution_count": 80,
   "metadata": {
    "scrolled": true
   },
   "outputs": [],
   "source": [
    "sce = TabularSCE(model, target_class=1)"
   ]
  },
  {
   "cell_type": "code",
   "execution_count": 82,
   "metadata": {
    "scrolled": true
   },
   "outputs": [
    {
     "name": "stderr",
     "output_type": "stream",
     "text": [
      "/usr/local/lib/python3.6/dist-packages/torch/nn/functional.py:1332: UserWarning: nn.functional.sigmoid is deprecated. Use torch.sigmoid instead.\n",
      "  warnings.warn(\"nn.functional.sigmoid is deprecated. Use torch.sigmoid instead.\")\n"
     ]
    },
    {
     "name": "stdout",
     "output_type": "stream",
     "text": [
      "[0/2000] Cost: 0.3800615668296814 [0.3800615668296814, 0.0, 0.0]\n",
      "[200/2000] Cost: 0.3586505353450775 [0.3586505353450775, 0.0, 0.0]\n",
      "[400/2000] Cost: 0.3233433663845062 [0.3233433663845062, 0.0, 0.0]\n",
      "[600/2000] Cost: 0.26026442646980286 [0.26026442646980286, 0.0, 0.0]\n",
      "[800/2000] Cost: 0.1932356208562851 [0.1932356208562851, 0.0, 0.0]\n",
      "[1000/2000] Cost: 0.1330515295267105 [0.1330515295267105, 0.0, 0.0]\n",
      "[1200/2000] Cost: 0.09823612123727798 [0.09823612123727798, 0.0, 0.0]\n",
      "[1400/2000] Cost: 0.07724771648645401 [0.07724771648645401, 0.0, 0.0]\n",
      "[1600/2000] Cost: 0.06674647331237793 [0.06674647331237793, 0.0, 0.0]\n",
      "[1800/2000] Cost: 0.05945093184709549 [0.05945093184709549, 0.0, 0.0]\n"
     ]
    },
    {
     "data": {
      "text/plain": [
       "<mlexplain.sce.tabular_sce.TabularSCE at 0x7facf00f5c50>"
      ]
     },
     "execution_count": 82,
     "metadata": {},
     "output_type": "execute_result"
    }
   ],
   "source": [
    "sce.fit(X_has_diabetes, lambda_coef=0.0, mu_coef=0.0, n_iter=5000, verbose_every_iterations=200, lr=0.1, force_masks_init=False)"
   ]
  },
  {
   "cell_type": "code",
   "execution_count": 96,
   "metadata": {
    "scrolled": true
   },
   "outputs": [
    {
     "data": {
      "image/png": "[encoded data removed]",
      "text/plain": [
       "<Figure size 432x288 with 2 Axes>"
      ]
     },
     "metadata": {
      "needs_background": "light"
     },
     "output_type": "display_data"
    }
   ],
   "source": [
    "ax1 = sns.heatmap(sce.masks.detach().numpy())"
   ]
  },
  {
   "cell_type": "markdown",
   "metadata": {},
   "source": [
    "#### Experiment 2. LR=0.1, lambda_coef=0.05, mu_coef=0"
   ]
  },
  {
   "cell_type": "code",
   "execution_count": 85,
   "metadata": {
    "scrolled": true
   },
   "outputs": [],
   "source": [
    "sce2 = TabularSCE(model, target_class=1)"
   ]
  },
  {
   "cell_type": "code",
   "execution_count": 88,
   "metadata": {
    "scrolled": true
   },
   "outputs": [
    {
     "name": "stdout",
     "output_type": "stream",
     "text": [
      "[0/5000] Cost: 0.7792090177536011 [0.7714269161224365, 0.007782115135341883, 0.0]\n",
      "[200/5000] Cost: 0.7748969793319702 [0.765720009803772, 0.009176953695714474, 0.0]\n",
      "[400/5000] Cost: 0.7692803740501404 [0.7586098313331604, 0.01067054271697998, 0.0]\n",
      "[600/5000] Cost: 0.7392069101333618 [0.7259253859519958, 0.013281512074172497, 0.0]\n",
      "[800/5000] Cost: 0.6798842549324036 [0.6626378297805786, 0.0172464270144701, 0.0]\n",
      "[1000/5000] Cost: 0.62308669090271 [0.6019671559333801, 0.021119531244039536, 0.0]\n",
      "[1200/5000] Cost: 0.5969282388687134 [0.5730122327804565, 0.023916013538837433, 0.0]\n",
      "[1400/5000] Cost: 0.5797852277755737 [0.5535958409309387, 0.02618936263024807, 0.0]\n",
      "[1600/5000] Cost: 0.5303657054901123 [0.5012701749801636, 0.029095541685819626, 0.0]\n",
      "[1800/5000] Cost: 0.516245424747467 [0.4852145314216614, 0.03103088028728962, 0.0]\n",
      "[2000/5000] Cost: 0.49688273668289185 [0.4634515345096588, 0.033431198447942734, 0.0]\n",
      "[2200/5000] Cost: 0.45836207270622253 [0.42205318808555603, 0.0363088920712471, 0.0]\n",
      "[2400/5000] Cost: 0.43390798568725586 [0.3953157961368561, 0.03859218209981918, 0.0]\n",
      "[2600/5000] Cost: 0.4210682809352875 [0.3804689049720764, 0.04059937968850136, 0.0]\n",
      "[2800/5000] Cost: 0.41119787096977234 [0.36873751878738403, 0.042460355907678604, 0.0]\n",
      "[3000/5000] Cost: 0.3988349437713623 [0.3543967008590698, 0.044438257813453674, 0.0]\n",
      "[3200/5000] Cost: 0.3641040325164795 [0.316838800907135, 0.04726523160934448, 0.0]\n",
      "[3400/5000] Cost: 0.3262522220611572 [0.276091992855072, 0.0501602441072464, 0.0]\n",
      "[3600/5000] Cost: 0.30230867862701416 [0.25002527236938477, 0.05228340998291969, 0.0]\n",
      "[3800/5000] Cost: 0.2804880142211914 [0.22612163424491882, 0.05436639115214348, 0.0]\n",
      "[4000/5000] Cost: 0.2361598163843155 [0.17873515188694, 0.05742466822266579, 0.0]\n",
      "[4200/5000] Cost: 0.21241207420825958 [0.15248587727546692, 0.059926193207502365, 0.0]\n",
      "[4400/5000] Cost: 0.18691286444664001 [0.12466015666723251, 0.0622527115046978, 0.0]\n",
      "[4600/5000] Cost: 0.14551250636577606 [0.08064454793930054, 0.06486795842647552, 0.0]\n",
      "[4800/5000] Cost: 0.12817026674747467 [0.06134117394685745, 0.06682909280061722, 0.0]\n"
     ]
    },
    {
     "data": {
      "text/plain": [
       "<mlexplain.sce.tabular_sce.TabularSCE at 0x7facf01e8a58>"
      ]
     },
     "execution_count": 88,
     "metadata": {},
     "output_type": "execute_result"
    }
   ],
   "source": [
    "sce2.fit(X_has_diabetes, lambda_coef=0.01, mu_coef=0.0, lr=0.1, n_iter=5000, verbose_every_iterations=200, force_masks_init=False)"
   ]
  },
  {
   "cell_type": "code",
   "execution_count": 97,
   "metadata": {
    "scrolled": true
   },
   "outputs": [
    {
     "data": {
      "image/png": "[encoded data removed]",
      "text/plain": [
       "<Figure size 432x288 with 2 Axes>"
      ]
     },
     "metadata": {
      "needs_background": "light"
     },
     "output_type": "display_data"
    }
   ],
   "source": [
    "ax2 = sns.heatmap(sce2.masks.detach().numpy())"
   ]
  },
  {
   "cell_type": "markdown",
   "metadata": {},
   "source": [
    "#### Experiment 3. LR=0.1, lambda_coef=0.03, mu_coef=0.2"
   ]
  },
  {
   "cell_type": "code",
   "execution_count": 90,
   "metadata": {},
   "outputs": [],
   "source": [
    "sce3 = TabularSCE(model, target_class=1)"
   ]
  },
  {
   "cell_type": "code",
   "execution_count": 94,
   "metadata": {},
   "outputs": [
    {
     "name": "stdout",
     "output_type": "stream",
     "text": [
      "[0/6000] Cost: 0.9526710510253906 [0.9526710510253906, 0.0, 0.0]\n",
      "[300/6000] Cost: 0.9527355432510376 [0.9510911703109741, 0.0012232830049470067, 0.00042113391100429]\n",
      "[600/6000] Cost: 0.9521734118461609 [0.9492859840393066, 0.0024636099115014076, 0.00042380281956866384]\n",
      "[900/6000] Cost: 0.9512998461723328 [0.9470817446708679, 0.0038770006503909826, 0.00034109692205674946]\n",
      "[1200/6000] Cost: 0.9503137469291687 [0.9444390535354614, 0.005525378044694662, 0.0003493419790174812]\n",
      "[1500/6000] Cost: 0.9488087296485901 [0.9405049085617065, 0.007880493067204952, 0.00042330092401243746]\n",
      "[1800/6000] Cost: 0.9450634121894836 [0.9327394366264343, 0.011823941022157669, 0.0005000460078008473]\n",
      "[2100/6000] Cost: 0.9367087483406067 [0.9182518720626831, 0.01795039512217045, 0.0005064734141342342]\n",
      "[2400/6000] Cost: 0.9159009456634521 [0.8876229524612427, 0.02778114378452301, 0.0004968748544342816]\n",
      "[2700/6000] Cost: 0.8243462443351746 [0.7738049030303955, 0.049870625138282776, 0.0006707233842462301]\n",
      "[3000/6000] Cost: 0.5141333937644958 [0.4134705066680908, 0.10019851475954056, 0.0004643590364139527]\n",
      "[3300/6000] Cost: 0.35927194356918335 [0.21862086653709412, 0.1401924192905426, 0.00045864874846301973]\n",
      "[3600/6000] Cost: 0.31554877758026123 [0.15194323658943176, 0.16315457224845886, 0.00045095779933035374]\n",
      "[3900/6000] Cost: 0.2978440523147583 [0.12085870653390884, 0.17653116583824158, 0.0004541852686088532]\n",
      "[4200/6000] Cost: 0.29059693217277527 [0.10661907494068146, 0.18352137506008148, 0.0004564932605717331]\n",
      "[4500/6000] Cost: 0.28584498167037964 [0.09764180332422256, 0.18774479627609253, 0.0004583846894092858]\n",
      "[4800/6000] Cost: 0.2827034890651703 [0.09312223643064499, 0.18912473320960999, 0.0004565227427519858]\n",
      "[5100/6000] Cost: 0.2804969549179077 [0.0898740142583847, 0.19014593958854675, 0.00047701774747110903]\n",
      "[5400/6000] Cost: 0.2789512276649475 [0.0869593620300293, 0.19151416420936584, 0.00047770069795660675]\n",
      "[5700/6000] Cost: 0.2775462567806244 [0.08466780185699463, 0.192397341132164, 0.00048108879127539694]\n"
     ]
    },
    {
     "data": {
      "text/plain": [
       "<mlexplain.sce.tabular_sce.TabularSCE at 0x7facf0392ac8>"
      ]
     },
     "execution_count": 94,
     "metadata": {},
     "output_type": "execute_result"
    }
   ],
   "source": [
    "sce3.fit(X_has_diabetes, lambda_coef=0.03, mu_coef=0.2, lr=0.1, n_iter=6000, verbose_every_iterations=300, force_masks_init=False)"
   ]
  },
  {
   "cell_type": "code",
   "execution_count": 98,
   "metadata": {
    "scrolled": true
   },
   "outputs": [
    {
     "data": {
      "text/plain": [
       "tensor([1, 5, 0, 6, 7, 3, 4, 2])"
      ]
     },
     "execution_count": 98,
     "metadata": {},
     "output_type": "execute_result"
    },
    {
     "data": {
      "image/png": "[encoded data removed]",
      "text/plain": [
       "<Figure size 432x288 with 2 Axes>"
      ]
     },
     "metadata": {
      "needs_background": "light"
     },
     "output_type": "display_data"
    }
   ],
   "source": [
    "ax3 = sns.heatmap(sce3.masks.detach().numpy())\n",
    "sce3.top_k_features(descending=False)"
   ]
  },
  {
   "cell_type": "code",
   "execution_count": 165,
   "metadata": {},
   "outputs": [
    {
     "data": {
      "image/png": "[encoded data removed]",
      "text/plain": [
       "<Figure size 576x864 with 4 Axes>"
      ]
     },
     "metadata": {
      "needs_background": "light"
     },
     "output_type": "display_data"
    }
   ],
   "source": [
    "fig, axes = plt.subplots(3, 1, figsize=(8, 12), sharey=True)\n",
    "cbar_ax = fig.add_axes([.91, .3, .03, .4])\n",
    "\n",
    "sns.heatmap(sce.masks.detach().numpy(), ax=axes[0], cbar=False)\n",
    "sns.heatmap(sce2.masks.detach().numpy(), ax=axes[1], cbar=True, cbar_ax=cbar_ax)\n",
    "sns.heatmap(sce3.masks.detach().numpy(), ax=axes[2], cbar=False)\n",
    "axes[2].set_xlabel('Feature index', fontsize=22)\n",
    "axes[1].set_ylabel('Instance index', fontsize=22)\n",
    "\n",
    "axes[0].text(9.5, 4, '$\\lambda=0$', fontsize=14)\n",
    "axes[0].text(9.5, 5, '$\\mu=0$', fontsize=14)\n",
    "\n",
    "axes[1].text(9.5, 4, '$\\lambda=0.05$', fontsize=14)\n",
    "axes[1].text(9.5, 5, '$\\mu=0$', fontsize=14)\n",
    "\n",
    "axes[2].text(9.5, 4, '$\\lambda=0.03$', fontsize=14)\n",
    "axes[2].text(9.5, 5, '$\\mu=0.2$', fontsize=14)\n",
    "\n",
    "fig.savefig('experiments/results/pima_experiment_hyperparams_sensitivity.png', bbox_inches=\"tight\")"
   ]
  },
  {
   "cell_type": "markdown",
   "metadata": {},
   "source": [
    "#### Experiment 4. LR=0.1, lambda_coef=0.1, mu_coef=0.2"
   ]
  },
  {
   "cell_type": "code",
   "execution_count": 195,
   "metadata": {},
   "outputs": [],
   "source": [
    "def fit_lambdas(sce, X, lambda_coefs, mu_coef, lr=0.1, n_iter=2000, verbose_every_iterations=300, force_masks_init=True):\n",
    "    for lambda_coef in lambda_coefs:\n",
    "        print(f\"Current lambda: {lambda_coef}\")\n",
    "        sce.fit(X, lambda_coef=lambda_coef, mu_coef=mu_coef, \n",
    "                lr=lr, n_iter=n_iter // len(lambda_coefs), \n",
    "                verbose_every_iterations=verbose_every_iterations,\n",
    "                force_masks_init=force_masks_init)"
   ]
  },
  {
   "cell_type": "code",
   "execution_count": 196,
   "metadata": {},
   "outputs": [],
   "source": [
    "sce4 = TabularSCE(model, target_class=1)"
   ]
  },
  {
   "cell_type": "code",
   "execution_count": 197,
   "metadata": {},
   "outputs": [
    {
     "name": "stdout",
     "output_type": "stream",
     "text": [
      "Current lambda: 0\n",
      "[0/1666] Cost: 0.9526710510253906 [0.9526710510253906, 0.0, 0.0]\n",
      "[500/1666] Cost: 0.9331716299057007 [0.9327369928359985, 0.0, 0.00043462516623549163]\n",
      "[1000/1666] Cost: 0.8198243379592896 [0.819287121295929, 0.0, 0.0005372312152758241]\n",
      "[1500/1666] Cost: 0.2088804841041565 [0.20814283192157745, 0.0, 0.0007376547437161207]\n",
      "Current lambda: 0.005\n",
      "[0/1666] Cost: 0.16575987637043 [0.13330546021461487, 0.032008152455091476, 0.00044625933514907956]\n",
      "[500/1666] Cost: 0.11458822339773178 [0.07626621425151825, 0.037877157330513, 0.00044485085527412593]\n",
      "[1000/1666] Cost: 0.09933358430862427 [0.05748409777879715, 0.04140055552124977, 0.00044892611913383007]\n",
      "[1500/1666] Cost: 0.09205237030982971 [0.0478646382689476, 0.04374786093831062, 0.0004398668825160712]\n",
      "Current lambda: 0.01\n",
      "[0/1666] Cost: 0.1332104206085205 [0.04330780357122421, 0.08946123719215393, 0.0004413739370647818]\n",
      "[500/1666] Cost: 0.12927468121051788 [0.03635546565055847, 0.09247604757547379, 0.0004431710112839937]\n",
      "[1000/1666] Cost: 0.1267884075641632 [0.03171413764357567, 0.09463165700435638, 0.0004426045052241534]\n",
      "[1500/1666] Cost: 0.12508828938007355 [0.028457846492528915, 0.09618745744228363, 0.0004429873952176422]\n",
      "Current lambda: 0.03\n",
      "[0/1666] Cost: 0.3178357183933258 [0.02759280800819397, 0.28979960083961487, 0.0004433240392245352]\n",
      "[500/1666] Cost: 0.30713528394699097 [0.03537515550851822, 0.2713161110877991, 0.000444015342509374]\n",
      "[1000/1666] Cost: 0.29960086941719055 [0.04238889366388321, 0.25676819682121277, 0.0004437879251781851]\n",
      "[1500/1666] Cost: 0.2946210503578186 [0.04744361713528633, 0.24671892821788788, 0.0004585038113873452]\n",
      "Current lambda: 0.05\n",
      "[0/1666] Cost: 0.4561610221862793 [0.04853671416640282, 0.4071759283542633, 0.0004483840020839125]\n",
      "[500/1666] Cost: 0.4337612986564636 [0.06786791980266571, 0.36542150378227234, 0.00047190330224111676]\n",
      "[1000/1666] Cost: 0.42156803607940674 [0.08274619281291962, 0.33832162618637085, 0.0005001989775337279]\n",
      "[1500/1666] Cost: 0.4168665111064911 [0.09056095033884048, 0.3258081376552582, 0.0004974448820576072]\n",
      "Current lambda: 0.1\n",
      "[0/1666] Cost: 0.7384227514266968 [0.09224492311477661, 0.6456661224365234, 0.000511678634211421]\n",
      "[500/1666] Cost: 0.6883672475814819 [0.14275382459163666, 0.544957160949707, 0.0006562640774063766]\n",
      "[1000/1666] Cost: 0.6724539995193481 [0.16659532487392426, 0.5051395297050476, 0.0007191443000920117]\n",
      "[1500/1666] Cost: 0.6603164076805115 [0.18202301859855652, 0.4776099622249603, 0.0006834539817646146]\n"
     ]
    }
   ],
   "source": [
    "fit_lambdas(sce4, X_has_diabetes, lambda_coefs=[0, 0.005, 0.01, 0.03, 0.05, 0.1], mu_coef=0.2, lr=0.1, n_iter=10000, verbose_every_iterations=500, force_masks_init=False)"
   ]
  },
  {
   "cell_type": "code",
   "execution_count": 213,
   "metadata": {},
   "outputs": [
    {
     "name": "stdout",
     "output_type": "stream",
     "text": [
      "[0/2000] Cost: 0.6480886936187744 [0.2078293263912201, 0.4395788311958313, 0.000680552504491061]\n",
      "[500/2000] Cost: 0.6480820775032043 [0.20793528854846954, 0.43945690989494324, 0.0006898754509165883]\n",
      "[1000/2000] Cost: 0.6478320956230164 [0.21058258414268494, 0.4365595877170563, 0.0006899174768477678]\n",
      "[1500/2000] Cost: 0.6474446058273315 [0.21733491122722626, 0.42938968539237976, 0.0007200388936325908]\n"
     ]
    },
    {
     "data": {
      "text/plain": [
       "<mlexplain.sce.tabular_sce.TabularSCE at 0x7facdb9dc0f0>"
      ]
     },
     "execution_count": 213,
     "metadata": {},
     "output_type": "execute_result"
    }
   ],
   "source": [
    "sce4.fit(X_has_diabetes, lambda_coef=0.1, mu_coef=0.2, lr=0.1, n_iter=2000, verbose_every_iterations=500, force_masks_init=False)"
   ]
  },
  {
   "cell_type": "code",
   "execution_count": 214,
   "metadata": {},
   "outputs": [
    {
     "data": {
      "text/plain": [
       "tensor([1, 5, 0, 6, 7, 3, 4, 2])"
      ]
     },
     "execution_count": 214,
     "metadata": {},
     "output_type": "execute_result"
    },
    {
     "data": {
      "image/png": "[encoded data removed]",
      "text/plain": [
       "<Figure size 432x288 with 2 Axes>"
      ]
     },
     "metadata": {
      "needs_background": "light"
     },
     "output_type": "display_data"
    }
   ],
   "source": [
    "ax4 = sns.heatmap(sce4.masks.detach().numpy())\n",
    "sce4.top_k_features(descending=False)"
   ]
  },
  {
   "cell_type": "markdown",
   "metadata": {},
   "source": [
    "We reduced probability even more down to $21.7\\%$ by changing 2 features: $1$ and $5$."
   ]
  },
  {
   "cell_type": "markdown",
   "metadata": {},
   "source": [
    "#### Experiment 5. LR=0.1, lambda_coef=0.2, mu_coef=0.2"
   ]
  },
  {
   "cell_type": "code",
   "execution_count": 202,
   "metadata": {},
   "outputs": [],
   "source": [
    "sce5 = TabularSCE(model, target_class=1)"
   ]
  },
  {
   "cell_type": "code",
   "execution_count": 204,
   "metadata": {},
   "outputs": [
    {
     "name": "stdout",
     "output_type": "stream",
     "text": [
      "Current lambda: 0\n",
      "[0/2000] Cost: 0.18213990330696106 [0.18165627121925354, 0.0, 0.0004836246953345835]\n",
      "[500/2000] Cost: 0.08208897709846497 [0.08165101706981659, 0.0, 0.0004379563615657389]\n",
      "[1000/2000] Cost: 0.05708318203687668 [0.05664404109120369, 0.0, 0.00043914132402278483]\n",
      "[1500/2000] Cost: 0.042263876646757126 [0.041819922626018524, 0.0, 0.0004439526819624007]\n",
      "Current lambda: 0.005\n",
      "[0/2000] Cost: 0.07917781174182892 [0.030219685286283493, 0.04852135106921196, 0.0004367716610431671]\n",
      "[500/2000] Cost: 0.0757911279797554 [0.02527199126780033, 0.05007652938365936, 0.00044261134462431073]\n",
      "[1000/2000] Cost: 0.0735674574971199 [0.0218362919986248, 0.05128876119852066, 0.0004424116632435471]\n",
      "[1500/2000] Cost: 0.07194618880748749 [0.019223615527153015, 0.05227810889482498, 0.000444467383204028]\n",
      "Current lambda: 0.01\n",
      "[0/2000] Cost: 0.12386515736579895 [0.017281372100114822, 0.10613922774791718, 0.0004445636586751789]\n",
      "[500/2000] Cost: 0.12330520153045654 [0.017298974096775055, 0.10556214302778244, 0.0004440872580744326]\n",
      "[1000/2000] Cost: 0.12274207174777985 [0.017300518229603767, 0.10499796271324158, 0.0004435916489455849]\n",
      "[1500/2000] Cost: 0.12216491252183914 [0.01727193221449852, 0.10444974899291992, 0.0004432251153048128]\n",
      "Current lambda: 0.03\n",
      "[0/2000] Cost: 0.32940253615379333 [0.017244825139641762, 0.3117150664329529, 0.0004426409141160548]\n",
      "[500/2000] Cost: 0.3132796585559845 [0.024663692340254784, 0.28817543387413025, 0.0004405515210237354]\n",
      "[1000/2000] Cost: 0.30176660418510437 [0.03247792273759842, 0.26884713768959045, 0.00044156526564620435]\n",
      "[1500/2000] Cost: 0.29390454292297363 [0.03965988755226135, 0.25379693508148193, 0.00044770646491087973]\n",
      "Current lambda: 0.05\n",
      "[0/2000] Cost: 0.4521597921848297 [0.04431723803281784, 0.4073851704597473, 0.0004573734477162361]\n",
      "[500/2000] Cost: 0.4320875406265259 [0.062239788472652435, 0.369348406791687, 0.0004993262118659914]\n",
      "[1000/2000] Cost: 0.4229893386363983 [0.07555469870567322, 0.3469492495059967, 0.00048540206626057625]\n",
      "[1500/2000] Cost: 0.41678357124328613 [0.08611910045146942, 0.330175518989563, 0.0004889374249614775]\n",
      "Current lambda: 0.1\n",
      "[0/2000] Cost: 0.7345004677772522 [0.09114360809326172, 0.6428437232971191, 0.0005131548386998475]\n",
      "[500/2000] Cost: 0.6987276673316956 [0.13123813271522522, 0.5668084025382996, 0.0006811208440922201]\n",
      "[1000/2000] Cost: 0.6790860891342163 [0.1567903459072113, 0.5216007232666016, 0.0006949875969439745]\n",
      "[1500/2000] Cost: 0.6658039689064026 [0.17605052888393402, 0.4890485405921936, 0.0007048830739222467]\n",
      "Current lambda: 0.2\n",
      "[0/2000] Cost: 1.1225509643554688 [0.1872267872095108, 0.9346108436584473, 0.0007133670151233673]\n",
      "[500/2000] Cost: 1.027405023574829 [0.30653977394104004, 0.7196928858757019, 0.0011722699273377657]\n",
      "[1000/2000] Cost: 1.0134294033050537 [0.35981303453445435, 0.6523812413215637, 0.0012350812321528792]\n",
      "[1500/2000] Cost: 1.0059939622879028 [0.382281094789505, 0.6225930452346802, 0.001119812368415296]\n"
     ]
    }
   ],
   "source": [
    "fit_lambdas(sce5, X_has_diabetes, lambda_coefs=[0, 0.005, 0.01, 0.03, 0.05, 0.1, 0.2], mu_coef=0.2, lr=0.1, n_iter=14000, verbose_every_iterations=500, force_masks_init=False)"
   ]
  },
  {
   "cell_type": "code",
   "execution_count": 207,
   "metadata": {},
   "outputs": [
    {
     "name": "stdout",
     "output_type": "stream",
     "text": [
      "[0/2000] Cost: 0.9818410873413086 [0.4196106791496277, 0.5609590411186218, 0.0012713698670268059]\n",
      "[300/2000] Cost: 0.9793158769607544 [0.4238496422767639, 0.5543880462646484, 0.001078173634596169]\n",
      "[600/2000] Cost: 0.9793404340744019 [0.4197083115577698, 0.5584589838981628, 0.0011731622507795691]\n",
      "[900/2000] Cost: 0.979489803314209 [0.4165857434272766, 0.5616845488548279, 0.0012194843729957938]\n",
      "[1200/2000] Cost: 0.9792008996009827 [0.4141612648963928, 0.5638212561607361, 0.0012183659709990025]\n",
      "[1500/2000] Cost: 0.9790831208229065 [0.4122585356235504, 0.5657078623771667, 0.001116664963774383]\n",
      "[1800/2000] Cost: 0.9793399572372437 [0.4101867079734802, 0.5680527091026306, 0.0011005691485479474]\n"
     ]
    },
    {
     "data": {
      "text/plain": [
       "<mlexplain.sce.tabular_sce.TabularSCE at 0x7facdbc87208>"
      ]
     },
     "execution_count": 207,
     "metadata": {},
     "output_type": "execute_result"
    }
   ],
   "source": [
    "sce5.fit(X_has_diabetes, lambda_coef=0.2, mu_coef=0.2, lr=0.1, n_iter=4000, verbose_every_iterations=300, force_masks_init=False)"
   ]
  },
  {
   "cell_type": "code",
   "execution_count": 208,
   "metadata": {},
   "outputs": [
    {
     "data": {
      "text/plain": [
       "tensor([1, 6, 5, 7, 0, 4, 2, 3])"
      ]
     },
     "execution_count": 208,
     "metadata": {},
     "output_type": "execute_result"
    },
    {
     "data": {
      "image/png": "[encoded data removed]",
      "text/plain": [
       "<Figure size 432x288 with 2 Axes>"
      ]
     },
     "metadata": {
      "needs_background": "light"
     },
     "output_type": "display_data"
    }
   ],
   "source": [
    "sns.heatmap(sce5.masks.detach().numpy())\n",
    "sce5.top_k_features(descending=False)"
   ]
  },
  {
   "cell_type": "markdown",
   "metadata": {},
   "source": [
    "So, we reduced probability from $97\\%$ to $41\\%$ by just changing $1$ feature. "
   ]
  },
  {
   "cell_type": "markdown",
   "metadata": {},
   "source": [
    "#### Experiment 6. LR=0.1, lambda_coef=0.05, mu_coef=0.2"
   ]
  },
  {
   "cell_type": "code",
   "execution_count": 215,
   "metadata": {},
   "outputs": [],
   "source": [
    "sce6 = TabularSCE(model, target_class=1)"
   ]
  },
  {
   "cell_type": "code",
   "execution_count": 216,
   "metadata": {},
   "outputs": [
    {
     "name": "stdout",
     "output_type": "stream",
     "text": [
      "Current lambda: 0\n",
      "[0/2000] Cost: 0.9526710510253906 [0.9526710510253906, 0.0, 0.0]\n",
      "[500/2000] Cost: 0.9331716299057007 [0.9327369928359985, 0.0, 0.0004346277564764023]\n",
      "[1000/2000] Cost: 0.8198243975639343 [0.8192871809005737, 0.0, 0.0005372296436689794]\n",
      "[1500/2000] Cost: 0.2088804990053177 [0.20814283192157745, 0.0, 0.0007376602734439075]\n",
      "Current lambda: 0.005\n",
      "[0/2000] Cost: 0.12187688797712326 [0.08466856181621552, 0.03676615282893181, 0.00044216957758180797]\n",
      "[500/2000] Cost: 0.10173480212688446 [0.060571908950805664, 0.04071944206953049, 0.0004434480797499418]\n",
      "[1000/2000] Cost: 0.09443161636590958 [0.0508890263736248, 0.043096721172332764, 0.00044586771400645375]\n",
      "[1500/2000] Cost: 0.08510524034500122 [0.03886006399989128, 0.04580296576023102, 0.0004422039201017469]\n",
      "Current lambda: 0.01\n",
      "[0/2000] Cost: 0.1271543800830841 [0.03086731769144535, 0.09584502875804901, 0.0004420281038619578]\n",
      "[500/2000] Cost: 0.125595360994339 [0.02789340354502201, 0.09725931286811829, 0.00044263782911002636]\n",
      "[1000/2000] Cost: 0.12443003058433533 [0.02572472393512726, 0.09826235473155975, 0.00044295433326624334]\n",
      "[1500/2000] Cost: 0.12343177944421768 [0.023978669196367264, 0.0990096852183342, 0.00044342028559185565]\n",
      "Current lambda: 0.03\n",
      "[0/2000] Cost: 0.32162731885910034 [0.022617878392338753, 0.2985662519931793, 0.000443195051047951]\n",
      "[500/2000] Cost: 0.3087354600429535 [0.03042353130877018, 0.2778683006763458, 0.0004436382732819766]\n",
      "[1000/2000] Cost: 0.2994840145111084 [0.03802122920751572, 0.26102009415626526, 0.00044269338832236826]\n",
      "[1500/2000] Cost: 0.2936309576034546 [0.04385065287351608, 0.24933657050132751, 0.0004437334428075701]\n",
      "Current lambda: 0.05\n",
      "[0/2000] Cost: 0.45054730772972107 [0.04756297916173935, 0.4025314450263977, 0.0004528832796495408]\n",
      "[500/2000] Cost: 0.4306832551956177 [0.06568639725446701, 0.36452212929725647, 0.0004747144994325936]\n",
      "[1000/2000] Cost: 0.4208807945251465 [0.08010469377040863, 0.34029287099838257, 0.0004832293780054897]\n",
      "[1500/2000] Cost: 0.41576653718948364 [0.08884886652231216, 0.3264341950416565, 0.0004834825813304633]\n"
     ]
    }
   ],
   "source": [
    "fit_lambdas(sce6, X_has_diabetes, lambda_coefs=[0, 0.005, 0.01, 0.03, 0.05], mu_coef=0.2, lr=0.1, n_iter=10000, verbose_every_iterations=500, force_masks_init=False)"
   ]
  },
  {
   "cell_type": "code",
   "execution_count": 219,
   "metadata": {},
   "outputs": [
    {
     "name": "stdout",
     "output_type": "stream",
     "text": [
      "[0/4000] Cost: 0.48355212807655334 [0.13058532774448395, 0.2459808588027954, 0.10698596388101578]\n",
      "[300/4000] Cost: 0.4071550965309143 [0.14954710006713867, 0.2571035921573639, 0.0005044021527282894]\n",
      "[600/4000] Cost: 0.4012332260608673 [0.1335238218307495, 0.2671853005886078, 0.0005241153994575143]\n",
      "[900/4000] Cost: 0.3990947902202606 [0.12676355242729187, 0.27181822061538696, 0.0005130231729708612]\n",
      "[1200/4000] Cost: 0.3975110352039337 [0.12237651646137238, 0.27460482716560364, 0.0005296888411976397]\n",
      "[1500/4000] Cost: 0.3961300551891327 [0.11933249235153198, 0.2762678563594818, 0.0005296921008266509]\n",
      "[1800/4000] Cost: 0.3951197564601898 [0.11756817996501923, 0.2770381569862366, 0.0005134038510732353]\n",
      "[2100/4000] Cost: 0.3947167694568634 [0.11761623620986938, 0.2765699028968811, 0.0005306341918185353]\n",
      "[2400/4000] Cost: 0.39428144693374634 [0.11758597195148468, 0.2761729061603546, 0.0005225656786933541]\n",
      "[2700/4000] Cost: 0.39417678117752075 [0.11676327884197235, 0.2768382430076599, 0.0005752433207817376]\n",
      "[3000/4000] Cost: 0.3940875232219696 [0.11604972183704376, 0.2774635851383209, 0.000574199017137289]\n",
      "[3300/4000] Cost: 0.3939761221408844 [0.11548803001642227, 0.27795740962028503, 0.0005306879756972194]\n",
      "[3600/4000] Cost: 0.39399757981300354 [0.11499345302581787, 0.278422087430954, 0.0005820475053042173]\n",
      "[3900/4000] Cost: 0.3939608037471771 [0.1145649403333664, 0.2788154184818268, 0.0005804718821309507]\n"
     ]
    },
    {
     "data": {
      "text/plain": [
       "<mlexplain.sce.tabular_sce.TabularSCE at 0x7facdbdc4ba8>"
      ]
     },
     "execution_count": 219,
     "metadata": {},
     "output_type": "execute_result"
    }
   ],
   "source": [
    "sce6.fit(X_has_diabetes, lambda_coef=0.05, mu_coef=0.2, lr=0.1, n_iter=4000, verbose_every_iterations=300, force_masks_init=False)"
   ]
  },
  {
   "cell_type": "code",
   "execution_count": 220,
   "metadata": {},
   "outputs": [
    {
     "data": {
      "text/plain": [
       "tensor([1, 5, 0, 6, 7, 3, 2, 4])"
      ]
     },
     "execution_count": 220,
     "metadata": {},
     "output_type": "execute_result"
    },
    {
     "data": {
      "image/png": "[encoded data removed]",
      "text/plain": [
       "<Figure size 432x288 with 2 Axes>"
      ]
     },
     "metadata": {
      "needs_background": "light"
     },
     "output_type": "display_data"
    }
   ],
   "source": [
    "sns.heatmap(sce6.masks.detach().numpy())\n",
    "sce6.top_k_features(descending=False)"
   ]
  },
  {
   "cell_type": "markdown",
   "metadata": {},
   "source": [
    "Probability reduced down to $11\\%$ just by changing 3 features $1, 5, 0$. "
   ]
  },
  {
   "cell_type": "markdown",
   "metadata": {},
   "source": [
    "#### Experiment 7. LR=0.1, lambda_coef=0.02, mu_coef=0.2"
   ]
  },
  {
   "cell_type": "code",
   "execution_count": 221,
   "metadata": {},
   "outputs": [],
   "source": [
    "sce7 = TabularSCE(model, target_class=1)"
   ]
  },
  {
   "cell_type": "code",
   "execution_count": 222,
   "metadata": {},
   "outputs": [
    {
     "name": "stdout",
     "output_type": "stream",
     "text": [
      "Current lambda: 0\n",
      "[0/2000] Cost: 0.9526710510253906 [0.9526710510253906, 0.0, 0.0]\n",
      "[500/2000] Cost: 0.9331716299057007 [0.9327369928359985, 0.0, 0.0004346262139733881]\n",
      "[1000/2000] Cost: 0.8198243379592896 [0.819287121295929, 0.0, 0.0005372315063141286]\n",
      "[1500/2000] Cost: 0.2088804543018341 [0.20814278721809387, 0.0, 0.0007376683643087745]\n",
      "Current lambda: 0.005\n",
      "[0/2000] Cost: 0.12187691032886505 [0.08466854691505432, 0.03676615282893181, 0.00044221020652912557]\n",
      "[500/2000] Cost: 0.10173442959785461 [0.060571394860744476, 0.04071957617998123, 0.00044345870264805853]\n",
      "[1000/2000] Cost: 0.09443147480487823 [0.05088876560330391, 0.043096818029880524, 0.00044588930904865265]\n",
      "[1500/2000] Cost: 0.08510522544384003 [0.03885997086763382, 0.045803043991327286, 0.00044221055577509105]\n",
      "Current lambda: 0.01\n",
      "[0/2000] Cost: 0.12715445458889008 [0.030867282301187515, 0.09584517031908035, 0.0004419954202603549]\n",
      "[500/2000] Cost: 0.12559548020362854 [0.027893420308828354, 0.09725942462682724, 0.00044263360905461013]\n",
      "[1000/2000] Cost: 0.12443018704652786 [0.0257247444242239, 0.0982624813914299, 0.00044296003761701286]\n",
      "[1500/2000] Cost: 0.12343189120292664 [0.02397867664694786, 0.09900980442762375, 0.00044341577449813485]\n",
      "Current lambda: 0.02\n",
      "[0/2000] Cost: 0.2221055030822754 [0.022617880254983902, 0.19904443621635437, 0.0004431901907082647]\n",
      "[500/2000] Cost: 0.21854142844676971 [0.025660160928964615, 0.19243775308132172, 0.0004435198788996786]\n",
      "[1000/2000] Cost: 0.21563124656677246 [0.028292521834373474, 0.1868947148323059, 0.000444003235315904]\n",
      "[1500/2000] Cost: 0.21315160393714905 [0.030465375632047653, 0.18224261701107025, 0.00044360855827108026]\n"
     ]
    }
   ],
   "source": [
    "fit_lambdas(sce7, X_has_diabetes, lambda_coefs=[0, 0.005, 0.01, 0.02], mu_coef=0.2, lr=0.1, n_iter=8000, verbose_every_iterations=500, force_masks_init=False)"
   ]
  },
  {
   "cell_type": "code",
   "execution_count": 229,
   "metadata": {},
   "outputs": [
    {
     "name": "stdout",
     "output_type": "stream",
     "text": [
      "[0/4000] Cost: 0.1937554031610489 [0.030041908845305443, 0.16324801743030548, 0.000465478835394606]\n",
      "[300/4000] Cost: 0.19361622631549835 [0.029874566942453384, 0.1632748246192932, 0.00046683705295436084]\n",
      "[600/4000] Cost: 0.1934744268655777 [0.02963664010167122, 0.1633857935667038, 0.00045199599117040634]\n",
      "[900/4000] Cost: 0.19336016476154327 [0.02941308356821537, 0.16348987817764282, 0.0004571918398141861]\n",
      "[1200/4000] Cost: 0.193256214261055 [0.029221588745713234, 0.16357122361660004, 0.0004634020442608744]\n",
      "[1500/4000] Cost: 0.19314764440059662 [0.029070455580949783, 0.1636127233505249, 0.00046447181375697255]\n",
      "[1800/4000] Cost: 0.19303956627845764 [0.02893386222422123, 0.16363650560379028, 0.00046919682063162327]\n",
      "[2100/4000] Cost: 0.19292765855789185 [0.02883150801062584, 0.16363097727298737, 0.0004651759227272123]\n",
      "[2400/4000] Cost: 0.19282053411006927 [0.028723936527967453, 0.16363245248794556, 0.0004641479754354805]\n",
      "[2700/4000] Cost: 0.19272029399871826 [0.028610747307538986, 0.16363927721977234, 0.0004702588194049895]\n",
      "[3000/4000] Cost: 0.19260883331298828 [0.028499195352196693, 0.16364379227161407, 0.00046584647498093545]\n",
      "[3300/4000] Cost: 0.19250664114952087 [0.028405284509062767, 0.16363383829593658, 0.0004675166273955256]\n",
      "[3600/4000] Cost: 0.19240207970142365 [0.02833346091210842, 0.16360688209533691, 0.000461736781289801]\n",
      "[3900/4000] Cost: 0.19231219589710236 [0.028275281190872192, 0.16357091069221497, 0.00046600919449701905]\n"
     ]
    },
    {
     "data": {
      "text/plain": [
       "<mlexplain.sce.tabular_sce.TabularSCE at 0x7facdbdbada0>"
      ]
     },
     "execution_count": 229,
     "metadata": {},
     "output_type": "execute_result"
    }
   ],
   "source": [
    "sce7.fit(X_has_diabetes, lambda_coef=0.02, mu_coef=0.2, lr=0.1, n_iter=4000, verbose_every_iterations=300, force_masks_init=False)"
   ]
  },
  {
   "cell_type": "code",
   "execution_count": 230,
   "metadata": {},
   "outputs": [
    {
     "data": {
      "text/plain": [
       "tensor([1, 7, 5, 0, 3, 6, 2, 4])"
      ]
     },
     "execution_count": 230,
     "metadata": {},
     "output_type": "execute_result"
    },
    {
     "data": {
      "image/png": "[encoded data removed]",
      "text/plain": [
       "<Figure size 432x288 with 2 Axes>"
      ]
     },
     "metadata": {
      "needs_background": "light"
     },
     "output_type": "display_data"
    }
   ],
   "source": [
    "sns.heatmap(sce7.masks.detach().numpy())\n",
    "sce7.top_k_features(descending=False)"
   ]
  },
  {
   "cell_type": "code",
   "execution_count": 267,
   "metadata": {},
   "outputs": [
    {
     "data": {
      "image/png": "[encoded data removed]",
      "text/plain": [
       "<Figure size 576x1296 with 5 Axes>"
      ]
     },
     "metadata": {
      "needs_background": "light"
     },
     "output_type": "display_data"
    }
   ],
   "source": [
    "fig, axes = plt.subplots(4, 1, figsize=(8, 18), sharey=True)\n",
    "cbar_ax = fig.add_axes([.91, .3, .03, .4])\n",
    "\n",
    "sns.heatmap(sce5.masks.detach().numpy(), ax=axes[0], cbar=False)\n",
    "sns.heatmap(sce4.masks.detach().numpy(), ax=axes[1], cbar=True, cbar_ax=cbar_ax)\n",
    "sns.heatmap(sce6.masks.detach().numpy(), ax=axes[2], cbar=False)\n",
    "sns.heatmap(sce7.masks.detach().numpy(), ax=axes[3], cbar=False)\n",
    "\n",
    "numb_changed_coef = [0, 1, 2, 3, 4]\n",
    "probs = [95.2, 41.2, 21.7, 11.4, 2.8]\n",
    "\n",
    "axes[3].set_xlabel('Feature index', fontsize=22)\n",
    "axes[1].set_ylabel('Instance index', fontsize=22)\n",
    "axes[1].yaxis.set_label_coords(-0.05, 0)\n",
    "\n",
    "axes[0].text(9.5, 5, '$\\lambda=0.2$', fontsize=14)\n",
    "axes[0].text(9.5, 6, f'Mean Probability=${probs[1]}\\%$', fontsize=14)\n",
    "\n",
    "axes[1].text(9.5, 5, '$\\lambda=0.1$', fontsize=14)\n",
    "axes[1].text(9.5, 6, f'Mean Probability=${probs[2]}\\%$', fontsize=14)\n",
    "\n",
    "axes[2].text(9.5, 5, '$\\lambda=0.05$', fontsize=14)\n",
    "axes[2].text(9.5, 6, f'Mean Probability=${probs[3]}\\%$', fontsize=14)\n",
    "\n",
    "axes[3].text(9.5, 5, '$\\lambda=0.02$', fontsize=14)\n",
    "axes[3].text(9.5, 6, f'Mean Probability=${probs[4]}\\%$', fontsize=14)\n",
    "\n",
    "\n",
    "fig.savefig('experiments/results/pima_experiment_lambdas_sensitivity.png', bbox_inches=\"tight\")"
   ]
  },
  {
   "cell_type": "code",
   "execution_count": 275,
   "metadata": {},
   "outputs": [
    {
     "data": {
      "image/png": "[encoded data removed]",
      "text/plain": [
       "<Figure size 576x576 with 1 Axes>"
      ]
     },
     "metadata": {
      "needs_background": "light"
     },
     "output_type": "display_data"
    }
   ],
   "source": [
    "fig, axes = plt.subplots(1, 1, figsize=(8, 8))\n",
    "\n",
    "plt.plot(numb_changed_coef, probs)\n",
    "plt.xlabel('Number of affected features', fontsize=14)\n",
    "plt.ylabel('Mean probability of the target class', fontsize=14)\n",
    "\n",
    "plt.savefig('experiments/results/pima_mean_prob_affected_features_graph.png', bbox_inches=\"tight\")"
   ]
  },
  {
   "cell_type": "markdown",
   "metadata": {},
   "source": [
    "#### Experiment 8. Varying number of features input datapoints. LR=0.1, lambda_coef=0.02, mu=0.2"
   ]
  },
  {
   "cell_type": "code",
   "execution_count": 38,
   "metadata": {},
   "outputs": [
    {
     "name": "stderr",
     "output_type": "stream",
     "text": [
      "/usr/local/lib/python3.6/dist-packages/torch/nn/functional.py:1332: UserWarning: nn.functional.sigmoid is deprecated. Use torch.sigmoid instead.\n",
      "  warnings.warn(\"nn.functional.sigmoid is deprecated. Use torch.sigmoid instead.\")\n"
     ]
    }
   ],
   "source": [
    "X_has_diabetes_50 = choose_k_top_elements_flat(model, X_train, K=50)"
   ]
  },
  {
   "cell_type": "code",
   "execution_count": 39,
   "metadata": {},
   "outputs": [
    {
     "name": "stdout",
     "output_type": "stream",
     "text": [
      "tensor([0.7672], grad_fn=<SigmoidBackward>)\n"
     ]
    }
   ],
   "source": [
    "print(model(X_has_diabetes_50[-1]))"
   ]
  },
  {
   "cell_type": "code",
   "execution_count": 40,
   "metadata": {},
   "outputs": [
    {
     "name": "stdout",
     "output_type": "stream",
     "text": [
      "Processing N=1\n",
      "[0/10000] Cost: 0.9114959836006165 [0.9114959836006165, 0.0, 0.0]\n",
      "[1000/10000] Cost: 0.2921053469181061 [0.09224334359169006, 0.19986200332641602, 0.0]\n",
      "[2000/10000] Cost: 0.2515895366668701 [0.05778130888938904, 0.19380822777748108, 0.0]\n",
      "[3000/10000] Cost: 0.2401878386735916 [0.05063830688595772, 0.1895495355129242, 0.0]\n",
      "[4000/10000] Cost: 0.2369837611913681 [0.05159332975745201, 0.1853904277086258, 0.0]\n",
      "[5000/10000] Cost: 0.22362898290157318 [0.043162137269973755, 0.18046684563159943, 0.0]\n",
      "[6000/10000] Cost: 0.21724507212638855 [0.03661942854523659, 0.18062564730644226, 0.0]\n",
      "[7000/10000] Cost: 0.20966312289237976 [0.03525848314166069, 0.17440463602542877, 0.0]\n",
      "[8000/10000] Cost: 0.20186004042625427 [0.03430430591106415, 0.16755573451519012, 0.0]\n",
      "[9000/10000] Cost: 0.18907025456428528 [0.03240686282515526, 0.15666338801383972, 0.0]\n",
      "Processing N=2\n",
      "[0/10000] Cost: 0.9100562334060669 [0.9100562334060669, 0.0, 0.0]\n",
      "[1000/10000] Cost: 0.464193731546402 [0.34529709815979004, 0.11467396467924118, 0.004222658928483725]\n",
      "[2000/10000] Cost: 0.2433130443096161 [0.05463334918022156, 0.18462742865085602, 0.004052264150232077]\n",
      "[3000/10000] Cost: 0.23133939504623413 [0.045372676104307175, 0.18149249255657196, 0.004474220797419548]\n",
      "[4000/10000] Cost: 0.2036961019039154 [0.03427368402481079, 0.16498219966888428, 0.00444021075963974]\n",
      "[5000/10000] Cost: 0.19057004153728485 [0.03206378594040871, 0.15403293073177338, 0.004473332781344652]\n",
      "[6000/10000] Cost: 0.18613773584365845 [0.03160659968852997, 0.1499779224395752, 0.004553213249891996]\n",
      "[7000/10000] Cost: 0.17897631227970123 [0.030233263969421387, 0.1444621980190277, 0.004280848428606987]\n",
      "[8000/10000] Cost: 0.17858095467090607 [0.026795729994773865, 0.14741869270801544, 0.004366538021713495]\n",
      "[9000/10000] Cost: 0.17871318757534027 [0.025558805093169212, 0.1486099362373352, 0.004544458352029324]\n",
      "Processing N=5\n",
      "[0/10000] Cost: 0.8973878622055054 [0.8973878622055054, 0.0, 0.0]\n",
      "[1000/10000] Cost: 0.8113589286804199 [0.7747571468353271, 0.03551144152879715, 0.0010903429938480258]\n",
      "[2000/10000] Cost: 0.24343763291835785 [0.10410018265247345, 0.13827286660671234, 0.001064587733708322]\n",
      "[3000/10000] Cost: 0.21111206710338593 [0.05778127163648605, 0.1523081511259079, 0.0010226508602499962]\n",
      "[4000/10000] Cost: 0.19723930954933167 [0.047329358756542206, 0.14884644746780396, 0.0010634976206347346]\n",
      "[5000/10000] Cost: 0.19039469957351685 [0.04152936860918999, 0.14779086410999298, 0.0010744687169790268]\n",
      "[6000/10000] Cost: 0.18684229254722595 [0.037739355117082596, 0.14797915518283844, 0.0011237843427807093]\n",
      "[7000/10000] Cost: 0.1838599294424057 [0.035751864314079285, 0.1470041126012802, 0.0011039534583687782]\n",
      "[8000/10000] Cost: 0.1809731125831604 [0.034705840051174164, 0.14514534175395966, 0.0011219432344660163]\n",
      "[9000/10000] Cost: 0.17899814248085022 [0.03294036537408829, 0.14496588706970215, 0.0010918943444266915]\n",
      "Processing N=10\n",
      "[0/10000] Cost: 0.8835619688034058 [0.8835619688034058, 0.0, 0.0]\n",
      "[1000/10000] Cost: 0.8590169548988342 [0.8456633687019348, 0.01291599590331316, 0.0004376215802039951]\n",
      "[2000/10000] Cost: 0.7322190999984741 [0.6853166818618774, 0.04643191769719124, 0.0004705230239778757]\n",
      "[3000/10000] Cost: 0.27001774311065674 [0.14641603827476501, 0.12314997613430023, 0.0004517557972576469]\n",
      "[4000/10000] Cost: 0.21791326999664307 [0.07048874348402023, 0.14696525037288666, 0.00045928379404358566]\n",
      "[5000/10000] Cost: 0.2073269635438919 [0.053325265645980835, 0.15353809297084808, 0.00046360460692085326]\n",
      "[6000/10000] Cost: 0.19969728589057922 [0.04022372514009476, 0.15900903940200806, 0.00046452367678284645]\n",
      "[7000/10000] Cost: 0.19542400538921356 [0.03454625606536865, 0.16041335463523865, 0.00046439399011433125]\n",
      "[8000/10000] Cost: 0.19227752089500427 [0.03177424520254135, 0.16003215312957764, 0.00047112253378145397]\n",
      "[9000/10000] Cost: 0.1911107301712036 [0.029970478266477585, 0.16066254675388336, 0.0004776983114425093]\n",
      "Processing N=15\n",
      "[0/10000] Cost: 0.8746672868728638 [0.8746672868728638, 0.0, 0.0]\n",
      "[1000/10000] Cost: 0.861243486404419 [0.8533293604850769, 0.007630808278918266, 0.0002832810569088906]\n",
      "[2000/10000] Cost: 0.8311523199081421 [0.8102691769599915, 0.020585231482982635, 0.0002978870179504156]\n",
      "[3000/10000] Cost: 0.5438388586044312 [0.4691426455974579, 0.07141317427158356, 0.0032830305863171816]\n",
      "[4000/10000] Cost: 0.2683202922344208 [0.1439095288515091, 0.12411492317914963, 0.00029585801530629396]\n",
      "[5000/10000] Cost: 0.22177419066429138 [0.07798805832862854, 0.14349055290222168, 0.000295584206469357]\n",
      "[6000/10000] Cost: 0.20983737707138062 [0.05678080394864082, 0.15272808074951172, 0.00032849935814738274]\n",
      "[7000/10000] Cost: 0.20411793887615204 [0.046195972710847855, 0.1576131284236908, 0.00030883552972227335]\n",
      "[8000/10000] Cost: 0.20082148909568787 [0.04080317169427872, 0.1597183793783188, 0.0002999289135914296]\n",
      "[9000/10000] Cost: 0.19828194379806519 [0.03761972486972809, 0.1603618711233139, 0.0003003409074153751]\n",
      "Processing N=20\n",
      "[0/10000] Cost: 0.86664879322052 [0.86664879322052, 0.0, 0.0]\n",
      "[1000/10000] Cost: 0.8554695248603821 [0.8490869402885437, 0.006169838365167379, 0.00021272378216963261]\n",
      "[2000/10000] Cost: 0.8346884250640869 [0.8189991116523743, 0.0154735641553998, 0.00021577671577688307]\n",
      "[3000/10000] Cost: 0.7748597860336304 [0.7394058704376221, 0.0335589163005352, 0.001895033405162394]\n",
      "[4000/10000] Cost: 0.44507110118865967 [0.35673534870147705, 0.08544888347387314, 0.00288687483407557]\n",
      "[5000/10000] Cost: 0.26280802488327026 [0.13990098237991333, 0.12268330156803131, 0.00022374418040271848]\n",
      "[6000/10000] Cost: 0.21950259804725647 [0.08119052648544312, 0.13809986412525177, 0.00021220212511252612]\n",
      "[7000/10000] Cost: 0.20802012085914612 [0.06364516168832779, 0.14415697753429413, 0.00021796875807922333]\n",
      "[8000/10000] Cost: 0.20248666405677795 [0.05318615958094597, 0.14890487492084503, 0.00039562300662510097]\n",
      "[9000/10000] Cost: 0.19884690642356873 [0.04654659703373909, 0.1520431488752365, 0.00025716712116263807]\n",
      "Processing N=30\n",
      "[0/10000] Cost: 0.8505593538284302 [0.8505593538284302, 0.0, 0.0]\n",
      "[1000/10000] Cost: 0.8406931757926941 [0.8355058431625366, 0.005047127604484558, 0.000140172298415564]\n",
      "[2000/10000] Cost: 0.8245359659194946 [0.8121488094329834, 0.011958536691963673, 0.0004286302428226918]\n",
      "[3000/10000] Cost: 0.7942406535148621 [0.7683264017105103, 0.02225468121469021, 0.0036595414858311415]\n",
      "[4000/10000] Cost: 0.7246283292770386 [0.6814952492713928, 0.03913034498691559, 0.004002724774181843]\n",
      "[5000/10000] Cost: 0.5219237208366394 [0.4417162835597992, 0.07184947282075882, 0.00835792813450098]\n",
      "[6000/10000] Cost: 0.3445560336112976 [0.24232585728168488, 0.10208873450756073, 0.00014143691805657]\n",
      "[7000/10000] Cost: 0.27350854873657227 [0.15318967401981354, 0.12016338109970093, 0.00015549687668681145]\n",
      "[8000/10000] Cost: 0.2387557476758957 [0.10715837776660919, 0.1314583718776703, 0.0001390048855682835]\n",
      "[9000/10000] Cost: 0.2224091738462448 [0.08481871336698532, 0.13745266199111938, 0.00013778975699096918]\n"
     ]
    }
   ],
   "source": [
    "Ns = [1, 2, 5, 10, 15, 20, 30]\n",
    "sces8 = []\n",
    "\n",
    "for N in Ns:\n",
    "    print(f\"Processing N={N}\")\n",
    "    sces8.append(TabularSCE(model, target_class=1))\n",
    "    sces8[-1].fit(X_has_diabetes_50[:N], lambda_coef=0.02, mu_coef=0.2, lr=0.1, n_iter=10000, verbose_every_iterations=1000, force_masks_init=False)"
   ]
  },
  {
   "cell_type": "code",
   "execution_count": 43,
   "metadata": {},
   "outputs": [
    {
     "data": {
      "image/png": "[encoded data removed]",
      "text/plain": [
       "<Figure size 576x1728 with 8 Axes>"
      ]
     },
     "metadata": {
      "needs_background": "light"
     },
     "output_type": "display_data"
    }
   ],
   "source": [
    "fig, axes = plt.subplots(len(sces8), 1, figsize = (8, 24))\n",
    "\n",
    "cbar_ax = fig.add_axes([.91, .3, .03, .4])\n",
    "for idx, sce in enumerate(sces8):\n",
    "    sns.heatmap(sce.masks.detach().numpy(), ax=axes[idx], cbar = (idx == 0), cbar_ax = cbar_ax if idx == 0 else None)\n",
    "    axes[idx].text(9.5, Ns[idx] / 2, f'N={Ns[idx]}', fontsize=14)\n",
    "\n",
    "axes[3].set_ylabel('Instance index', fontsize=22)\n",
    "axes[-1].set_xlabel('Feature index', fontsize=22)\n",
    "fig.savefig('experiments/results/pima_experiment_N_sensitivity.png', bbox_inches=\"tight\")"
   ]
  }
 ],
 "metadata": {
  "kernelspec": {
   "display_name": "Python 3",
   "language": "python",
   "name": "python3"
  },
  "language_info": {
   "codemirror_mode": {
    "name": "ipython",
    "version": 3
   },
   "file_extension": ".py",
   "mimetype": "text/x-python",
   "name": "python",
   "nbconvert_exporter": "python",
   "pygments_lexer": "ipython3",
   "version": "3.6.6"
  }
 },
 "nbformat": 4,
 "nbformat_minor": 2
}
